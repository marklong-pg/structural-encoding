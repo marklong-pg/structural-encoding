{
 "cells": [
  {
   "cell_type": "markdown",
   "metadata": {
    "collapsed": true,
    "pycharm": {
     "name": "#%% md\n"
    }
   },
   "source": [
    "# Qiskit Notes I"
   ]
  },
  {
   "cell_type": "markdown",
   "metadata": {
    "collapsed": false,
    "pycharm": {
     "name": "#%% md\n"
    }
   },
   "source": [
    "***Last Update: May 14, 2022***"
   ]
  },
  {
   "cell_type": "markdown",
   "metadata": {
    "collapsed": false,
    "pycharm": {
     "name": "#%% md\n"
    }
   },
   "source": [
    "Covers:\n",
    "* Circuit Level:\n",
    "    * Quantum Circuit creation\n",
    "    * Assigning parameters\n",
    "    * Concatenate circuits\n",
    "    * Instruction transfer\n",
    "    * Observable through expectation values (manual and StateFn)\n",
    "\n",
    "* Unitary Level:\n",
    "    * Controlled gates (built-in and custom)\n",
    "    * Custom gate from a given matrix\n",
    "    * Transpose of Unitary\n",
    "    * Convert a circuit to unitary\n",
    "\n",
    "* Algorithm Level (more in implementation of each algorithm)"
   ]
  },
  {
   "cell_type": "code",
   "execution_count": 47,
   "metadata": {
    "collapsed": false,
    "pycharm": {
     "name": "#%%\n"
    }
   },
   "outputs": [],
   "source": [
    "from sklearn import svm\n",
    "from sklearn.decomposition import PCA\n",
    "import numpy as np\n",
    "import pandas as pd\n",
    "from scipy.io import loadmat\n",
    "import math\n",
    "\n",
    "from qiskit import QuantumCircuit, Aer,QuantumRegister, transpile, execute\n",
    "from qiskit.circuit import ParameterVector,Parameter\n",
    "from qiskit.utils import QuantumInstance\n",
    "from qiskit.circuit.library import ZFeatureMap, ZZFeatureMap, PauliFeatureMap\n",
    "from qiskit_machine_learning.circuit.library import RawFeatureVector\n",
    "from qiskit_machine_learning.kernels import QuantumKernel\n",
    "from qiskit.extensions import UnitaryGate\n",
    "from qiskit.opflow import I,Z, StateFn\n",
    "from qiskit.opflow.expectations import AerPauliExpectation\n",
    "from qiskit.opflow.converters import CircuitSampler\n",
    "\n",
    "\n",
    "import os\n",
    "os.environ['QISKIT_IN_PARALLEL'] = 'TRUE'\n",
    "\n",
    "SEED = 2508"
   ]
  },
  {
   "cell_type": "markdown",
   "metadata": {
    "collapsed": false,
    "pycharm": {
     "name": "#%% md\n"
    }
   },
   "source": [
    "# 1. Circuit Level"
   ]
  },
  {
   "cell_type": "markdown",
   "metadata": {
    "collapsed": false,
    "pycharm": {
     "name": "#%% md\n"
    }
   },
   "source": [
    "## 1.1. Quantum Circuit Creation"
   ]
  },
  {
   "cell_type": "markdown",
   "metadata": {
    "collapsed": false,
    "pycharm": {
     "name": "#%% md\n"
    }
   },
   "source": [
    "**Content:** How to create a quantum circuit either directly or using a QuantumRegister\n",
    "\n",
    "**Resources:**\n",
    "* __[QuantumCircuit](https://qiskit.org/documentation/stubs/qiskit.circuit.QuantumCircuit.html)__\n",
    "* __[QuantumRegister](https://qiskit.org/documentation/stubs/qiskit.circuit.QuantumRegister.html)__\n",
    "\n",
    "**Highlights:**\n",
    "* `QuantumCircuit`: attribute `.data` returns all the instructions of the circuit\n",
    "* `QuantumCircuit`: attribute `.qubits` returns a list of quantum bits in the other that the registers were added\n",
    "* `QuantumCircuit`: method `.add_register` allows adding new register to an existing circuit (in place) without having to create a new circuit\n"
   ]
  },
  {
   "cell_type": "markdown",
   "metadata": {
    "collapsed": false,
    "pycharm": {
     "name": "#%% md\n"
    }
   },
   "source": [
    "**(1) Direct & Simple Creation**"
   ]
  },
  {
   "cell_type": "code",
   "execution_count": 3,
   "metadata": {
    "collapsed": false,
    "pycharm": {
     "name": "#%%\n"
    }
   },
   "outputs": [
    {
     "data": {
      "image/png": "[encoded data removed]",
      "text/plain": [
       "<Figure size 206.997x204.68 with 1 Axes>"
      ]
     },
     "execution_count": 3,
     "metadata": {},
     "output_type": "execute_result"
    }
   ],
   "source": [
    "# Create a quantum circuit with 3 qubits and assign name \"test circuit\"\n",
    "qc11a = QuantumCircuit(3,name=\"test circuit\")\n",
    "qc11a.h(range(qc11a.num_qubits))\n",
    "qc11a.cx(1,2)\n",
    "qc11a.draw('mpl')"
   ]
  },
  {
   "cell_type": "markdown",
   "metadata": {
    "collapsed": false,
    "pycharm": {
     "name": "#%% md\n"
    }
   },
   "source": [
    "**(2) Create quantum circuit with QuantumRegister**"
   ]
  },
  {
   "cell_type": "markdown",
   "metadata": {
    "collapsed": false,
    "pycharm": {
     "name": "#%% md\n"
    }
   },
   "source": [
    "NOTES:\n",
    "* See Appendix A of __[OpenQASM](https://arxiv.org/pdf/1707.03429v2.pdf)__ for grammar rules; Grammar for name of register: [a-z][A-Za-z0-9_]*\n",
    "* To create a `QuantumCircuit` using a `QuantumRegister`, should add a comma `,` after inputting the `QuantumRegister` - e.g., `qc = QuantumCircuit(qreg,)` to allow name to be shown when drawing the circuit\n"
   ]
  },
  {
   "cell_type": "code",
   "execution_count": 49,
   "metadata": {
    "collapsed": false,
    "pycharm": {
     "name": "#%%\n"
    }
   },
   "outputs": [],
   "source": [
    "# Create the same 3-qubit quantum circuit using QuantumRegister\n",
    "qreg11b = QuantumRegister(size=3,name=\"bath\")"
   ]
  },
  {
   "cell_type": "code",
   "execution_count": 50,
   "metadata": {
    "collapsed": false,
    "pycharm": {
     "name": "#%%\n"
    }
   },
   "outputs": [
    {
     "data": {
      "image/png": "[encoded data removed]",
      "text/plain": [
       "<Figure size 241.183x204.68 with 1 Axes>"
      ]
     },
     "execution_count": 50,
     "metadata": {},
     "output_type": "execute_result"
    }
   ],
   "source": [
    "qc11b = QuantumCircuit(qreg11b,)\n",
    "\n",
    "# Assign gates using qubit register (Qubit()) as the pointer\n",
    "qc11b.h(qreg11b)\n",
    "qc11b.cx(qreg11b[1],qreg11b[2])\n",
    "qc11b.draw('mpl')"
   ]
  },
  {
   "cell_type": "code",
   "execution_count": 51,
   "metadata": {
    "collapsed": false,
    "pycharm": {
     "name": "#%%\n"
    }
   },
   "outputs": [
    {
     "name": "stdout",
     "output_type": "stream",
     "text": [
      "[Qubit(QuantumRegister(3, 'bath'), 0), Qubit(QuantumRegister(3, 'bath'), 1), Qubit(QuantumRegister(3, 'bath'), 2)]\n",
      "[Qubit(QuantumRegister(3, 'q'), 0), Qubit(QuantumRegister(3, 'q'), 1), Qubit(QuantumRegister(3, 'q'), 2)]\n"
     ]
    }
   ],
   "source": [
    "# Extract QuantumRegister information from quantum circuit\n",
    "print(qc11b.qubits)\n",
    "print(qc11a.qubits)\n",
    "# See that for simply created circuit qc11a, default name of registers is 'q'"
   ]
  },
  {
   "cell_type": "markdown",
   "metadata": {
    "collapsed": false,
    "pycharm": {
     "name": "#%% md\n"
    }
   },
   "source": [
    "## 1.2. Assigning Parameters"
   ]
  },
  {
   "cell_type": "markdown",
   "metadata": {
    "collapsed": false
   },
   "source": [
    "**Content:** How to assign parameters to a variational quantum circuit in an organized manner\n",
    "\n",
    "**Resources:**\n",
    "* __[Parameter](https://qiskit.org/documentation/stubs/qiskit.circuit.Parameter.html)__\n",
    "* __[ParameterVector](https://qiskit.org/documentation/stubs/qiskit.circuit.ParameterVector.html)__\n"
   ]
  },
  {
   "cell_type": "code",
   "execution_count": 31,
   "metadata": {
    "collapsed": false,
    "pycharm": {
     "name": "#%%\n"
    }
   },
   "outputs": [
    {
     "data": {
      "image/png": "[encoded data removed]",
      "text/plain": [
       "<Figure size 146.797x204.68 with 1 Axes>"
      ]
     },
     "execution_count": 31,
     "metadata": {},
     "output_type": "execute_result"
    }
   ],
   "source": [
    "# Create a simple 3-qubit circuit\n",
    "qc12a = QuantumCircuit(3)\n",
    "qc12a.h(qc12a.qubits)\n",
    "qc12a.draw('mpl')"
   ]
  },
  {
   "cell_type": "code",
   "execution_count": 32,
   "metadata": {
    "collapsed": false,
    "pycharm": {
     "name": "#%%\n"
    }
   },
   "outputs": [
    {
     "data": {
      "image/png": "[encoded data removed]",
      "text/plain": [
       "<Figure size 206.997x204.68 with 1 Axes>"
      ]
     },
     "execution_count": 32,
     "metadata": {},
     "output_type": "execute_result"
    }
   ],
   "source": [
    "# Let's add in 3 parameterized rotation gates rx, ry, and rz\n",
    "# Create ParameterVector of length 3 (an iterable of 3 Parameter instances)\n",
    "params12a = ParameterVector(\"$\\\\theta$\",length=3)\n",
    "\n",
    "# Use ParameterVector to parameterize the rotation gates\n",
    "qc12a.rx(params12a[0],qc12a.qubits[0])\n",
    "qc12a.ry(params12a[1],qc12a.qubits[1])\n",
    "qc12a.rz(params12a[2],qc12a.qubits[2])\n",
    "\n",
    "qc12a.draw('mpl')"
   ]
  },
  {
   "cell_type": "markdown",
   "metadata": {
    "collapsed": false,
    "pycharm": {
     "name": "#%% md\n"
    }
   },
   "source": [
    "**NOTE:** Difference between __[`bind_parameters`](https://qiskit.org/documentation/stubs/qiskit.circuit.QuantumCircuit.bind_parameters.html#qiskit.circuit.QuantumCircuit.bind_parameters)__ and __[`assign_parameters`](https://qiskit.org/documentation/stubs/qiskit.circuit.QuantumCircuit.bind_parameters.html#qiskit.circuit.QuantumCircuit.assign_parameters)__:\n",
    "* `bind_parameters(parameters)`: Assign numeric parameters to values yielding a new circuit (return a new copy with assignment substitution)\n",
    "* `assign_parameters(parameters,inplace=False`: if inplace=False, similar to `bind_parameters`. If inplace=True, modifies the circuit and returns nothing"
   ]
  },
  {
   "cell_type": "code",
   "execution_count": 34,
   "metadata": {
    "collapsed": false,
    "pycharm": {
     "name": "#%%\n"
    }
   },
   "outputs": [
    {
     "data": {
      "image/png": "[encoded data removed]",
      "text/plain": [
       "<Figure size 206.997x204.68 with 1 Axes>"
      ]
     },
     "execution_count": 34,
     "metadata": {},
     "output_type": "execute_result"
    }
   ],
   "source": [
    "# Set an arbitrary value vector\n",
    "params_vals12a = [0.1, 0.2, 0.3]\n",
    "# Create a dictionary for organized binding (e.g., when the order of values might not be the same as the order of parameters in the circuit)\n",
    "params_dict12a = {param : value for (param, value) in zip(params12a,params_vals12a)}\n",
    "# Bind parameter values to the parameterized circuit\n",
    "qc12a_assigned = qc12a.bind_parameters(params_dict12a)\n",
    "qc12a_assigned.draw('mpl')"
   ]
  },
  {
   "cell_type": "markdown",
   "metadata": {
    "collapsed": false,
    "pycharm": {
     "name": "#%% md\n"
    }
   },
   "source": [
    "**NOTE:** The practice of creating a **{param : value}** dictionary is necessary for complex algorithms and should be abided by"
   ]
  },
  {
   "cell_type": "markdown",
   "metadata": {
    "collapsed": false,
    "pycharm": {
     "name": "#%% md\n"
    }
   },
   "source": [
    "## 1.3. Concatenate / Stack Circuits"
   ]
  },
  {
   "cell_type": "markdown",
   "metadata": {
    "collapsed": false
   },
   "source": [
    "**Content:** How to concatenate two circuits of the same width. How to create a quantum circuit combining different multi-qubit registers (to stack two circuits of arbitrary width with instructions in place, see 1.4. Instruction Transfer)\n",
    "\n",
    "**Resources:**\n",
    "* __[Combine quantum circuits Qiskit Video (super helpful)](https://www.youtube.com/watch?v=3ja8uCqUS0s)__ (Warning: circuit combination using Python addition operator is being deprecated, `QuantumCircuit.compose` is recommended instead)\n",
    "* __[QuantumCircuit.compose](https://qiskit.org/documentation/stubs/qiskit.circuit.QuantumCircuit.compose.html#qiskit.circuit.QuantumCircuit.compose)__\n"
   ]
  },
  {
   "cell_type": "markdown",
   "metadata": {
    "collapsed": false,
    "pycharm": {
     "name": "#%% md\n"
    }
   },
   "source": [
    "**(a) Concatenate circuits of the same width**"
   ]
  },
  {
   "cell_type": "code",
   "execution_count": 35,
   "metadata": {
    "collapsed": false,
    "pycharm": {
     "name": "#%%\n"
    }
   },
   "outputs": [
    {
     "data": {
      "image/png": "[encoded data removed]",
      "text/plain": [
       "<Figure size 146.797x204.68 with 1 Axes>"
      ]
     },
     "metadata": {},
     "output_type": "display_data"
    },
    {
     "data": {
      "image/png": "[encoded data removed]",
      "text/plain": [
       "<Figure size 146.797x204.68 with 1 Axes>"
      ]
     },
     "metadata": {},
     "output_type": "display_data"
    }
   ],
   "source": [
    "# Create two 3-qubit circuits\n",
    "qc13a_1 = QuantumCircuit(3)\n",
    "qc13a_1.h(qc13a_1.qubits)\n",
    "qc13a_2 = QuantumCircuit(3)\n",
    "qc13a_2.z(qc13a_2.qubits)\n",
    "display(qc13a_1.draw('mpl'))\n",
    "display(qc13a_2.draw('mpl'))"
   ]
  },
  {
   "cell_type": "code",
   "execution_count": 38,
   "metadata": {
    "collapsed": false,
    "pycharm": {
     "name": "#%%\n"
    }
   },
   "outputs": [
    {
     "name": "stdout",
     "output_type": "stream",
     "text": [
      "Circuit 1 + Circuit 2 Combination\n"
     ]
    },
    {
     "data": {
      "image/png": "[encoded data removed]",
      "text/plain": [
       "<Figure size 206.997x204.68 with 1 Axes>"
      ]
     },
     "metadata": {},
     "output_type": "display_data"
    },
    {
     "name": "stdout",
     "output_type": "stream",
     "text": [
      "Circuit 2 + Circuit 1 Combination\n"
     ]
    },
    {
     "data": {
      "image/png": "[encoded data removed]",
      "text/plain": [
       "<Figure size 206.997x204.68 with 1 Axes>"
      ]
     },
     "metadata": {},
     "output_type": "display_data"
    }
   ],
   "source": [
    "# Concatenate two circuits using compose()\n",
    "print('Circuit 1 + Circuit 2 Combination')\n",
    "qc13a_c1 = qc13a_1.compose(qc13a_2)\n",
    "display(qc13a_c1.draw('mpl'))\n",
    "print('Circuit 2 + Circuit 1 Combination')\n",
    "qc13a_c2 = qc13a_2.compose(qc13a_1)\n",
    "display(qc13a_c2.draw('mpl'))"
   ]
  },
  {
   "cell_type": "markdown",
   "metadata": {
    "collapsed": false,
    "pycharm": {
     "name": "#%% md\n"
    }
   },
   "source": [
    "**(b) Concatenate circuits of different widths**\n",
    "NOTE:\n",
    "* Both circuits should be constructed using QuantumRegister for organized concatenation (or else, one can also specify the qubits to concatenate onto within the method)\n",
    "* `circuitA.compose(circuitB,...)` requires that `circuitA.num_qubits` >= `circuitB.num_qubits`"
   ]
  },
  {
   "cell_type": "code",
   "execution_count": 47,
   "metadata": {
    "collapsed": false,
    "pycharm": {
     "name": "#%%\n"
    }
   },
   "outputs": [
    {
     "data": {
      "image/png": "[encoded data removed]",
      "text/plain": [
       "<Figure size 153.866x325.08 with 1 Axes>"
      ]
     },
     "metadata": {},
     "output_type": "display_data"
    },
    {
     "data": {
      "image/png": "[encoded data removed]",
      "text/plain": [
       "<Figure size 139.438x144.48 with 1 Axes>"
      ]
     },
     "metadata": {},
     "output_type": "display_data"
    }
   ],
   "source": [
    "qr13b_m = QuantumRegister(3,name='m')\n",
    "qr13b_l = QuantumRegister(2,name='l')\n",
    "\n",
    "qc13b_1 = QuantumCircuit(qr13b_m,qr13b_l)\n",
    "qc13b_1.h(qc13b_1.qubits)\n",
    "qc13b_2 = QuantumCircuit(qr13b_l,)\n",
    "qc13b_2.cx(0,1)\n",
    "\n",
    "display(qc13b_1.draw('mpl'))\n",
    "display(qc13b_2.draw('mpl'))"
   ]
  },
  {
   "cell_type": "code",
   "execution_count": 48,
   "metadata": {
    "collapsed": false,
    "pycharm": {
     "name": "#%%\n"
    }
   },
   "outputs": [
    {
     "data": {
      "image/png": "[encoded data removed]",
      "text/plain": [
       "<Figure size 214.066x325.08 with 1 Axes>"
      ]
     },
     "execution_count": 48,
     "metadata": {},
     "output_type": "execute_result"
    }
   ],
   "source": [
    "qc13b_c1 = qc13b_1.compose(qc13b_2,qc13b_2.qubits,inplace=False) # --> qc1.compose(qc2, qubits of qc1 to add onto)\n",
    "qc13b_c1.draw('mpl')"
   ]
  },
  {
   "cell_type": "markdown",
   "metadata": {
    "collapsed": false,
    "pycharm": {
     "name": "#%% md\n"
    }
   },
   "source": [
    "**(c) Stack circuits**"
   ]
  },
  {
   "cell_type": "code",
   "execution_count": 57,
   "metadata": {
    "collapsed": false,
    "pycharm": {
     "name": "#%%\n"
    }
   },
   "outputs": [
    {
     "data": {
      "image/png": "[encoded data removed]",
      "text/plain": [
       "<Figure size 133.671x445.48 with 1 Axes>"
      ]
     },
     "execution_count": 57,
     "metadata": {},
     "output_type": "execute_result"
    }
   ],
   "source": [
    "qc13c_1 = QuantumCircuit(QuantumRegister(2,name='k'),)\n",
    "qc13c_1.cx(1,0)\n",
    "# We want to stack qc13b_1 above qc13c_1\n",
    "qc13c_c1 = QuantumCircuit(qc13b_1.qubits,qc13c_1.qubits,)\n",
    "qc13c_c1.compose(qc13b_1,qubits=qc13b_1.qubits,inplace=True)\n",
    "qc13c_c1.compose(qc13c_1,qubits=qc13c_1.qubits,inplace=True)\n",
    "qc13c_c1.draw('mpl')"
   ]
  },
  {
   "cell_type": "markdown",
   "metadata": {
    "collapsed": false,
    "pycharm": {
     "name": "#%% md\n"
    }
   },
   "source": [
    "## 1.4. Circuit Data & Instruction Transfer"
   ]
  },
  {
   "cell_type": "markdown",
   "metadata": {
    "collapsed": false
   },
   "source": [
    "**Content:** How to extract instruction data from a circuit and transfer to another circuit\n",
    "\n",
    "**Resources:**\n",
    "* __[QuantumCircuit.append](https://qiskit.org/documentation/stubs/qiskit.circuit.QuantumCircuit.append.html#qiskit.circuit.QuantumCircuit.append)__\n",
    "\n",
    "**NOTE**: `.compose` is for adding a `QuantumCircuit`, `.append` is for adding an `Instruction`\n"
   ]
  },
  {
   "cell_type": "code",
   "execution_count": 58,
   "metadata": {
    "collapsed": false,
    "pycharm": {
     "name": "#%%\n"
    }
   },
   "outputs": [
    {
     "data": {
      "image/png": "[encoded data removed]",
      "text/plain": [
       "<Figure size 394.666x325.08 with 1 Axes>"
      ]
     },
     "execution_count": 58,
     "metadata": {},
     "output_type": "execute_result"
    }
   ],
   "source": [
    "qr14_m = QuantumRegister(3,name='m')\n",
    "qr14_l = QuantumRegister(2,name='l')\n",
    "\n",
    "qc14_1 = QuantumCircuit(qr14_m,qr14_l)\n",
    "qc14_1.h(qc14_1.qubits)\n",
    "qc14_1.cx(0,3)\n",
    "qc14_1.rzz(0.1,1,2)\n",
    "qc14_1.cz(2,0)\n",
    "\n",
    "qc14_1.draw('mpl')"
   ]
  },
  {
   "cell_type": "code",
   "execution_count": 63,
   "metadata": {
    "collapsed": false,
    "pycharm": {
     "name": "#%%\n"
    }
   },
   "outputs": [
    {
     "data": {
      "text/plain": [
       "[(Instruction(name='h', num_qubits=1, num_clbits=0, params=[]), [Qubit(QuantumRegister(3, 'm'), 0)], []), (Instruction(name='h', num_qubits=1, num_clbits=0, params=[]), [Qubit(QuantumRegister(3, 'm'), 1)], []), (Instruction(name='h', num_qubits=1, num_clbits=0, params=[]), [Qubit(QuantumRegister(3, 'm'), 2)], []), (Instruction(name='h', num_qubits=1, num_clbits=0, params=[]), [Qubit(QuantumRegister(2, 'l'), 0)], []), (Instruction(name='h', num_qubits=1, num_clbits=0, params=[]), [Qubit(QuantumRegister(2, 'l'), 1)], []), (Instruction(name='cx', num_qubits=2, num_clbits=0, params=[]), [Qubit(QuantumRegister(3, 'm'), 0), Qubit(QuantumRegister(2, 'l'), 0)], []), (Instruction(name='rzz', num_qubits=2, num_clbits=0, params=[0.1]), [Qubit(QuantumRegister(3, 'm'), 1), Qubit(QuantumRegister(3, 'm'), 2)], []), (Instruction(name='cz', num_qubits=2, num_clbits=0, params=[]), [Qubit(QuantumRegister(3, 'm'), 2), Qubit(QuantumRegister(3, 'm'), 0)], [])]"
      ]
     },
     "execution_count": 63,
     "metadata": {},
     "output_type": "execute_result"
    }
   ],
   "source": [
    "# attribute `data` of a quantum circuit contains the list of instructions used in the circuit in order of application\n",
    "qc14_1.data\n",
    "# Each tuple in the list is in the format (instruction, qargs, cargs), where instruction is an Instruction (or subclass) object, qargs is a list of Qubit objects, and cargs is a list of Clbit objects."
   ]
  },
  {
   "cell_type": "code",
   "execution_count": 62,
   "metadata": {
    "collapsed": false,
    "pycharm": {
     "name": "#%%\n"
    }
   },
   "outputs": [
    {
     "data": {
      "image/png": "[encoded data removed]",
      "text/plain": [
       "<Figure size 153.866x445.48 with 1 Axes>"
      ]
     },
     "execution_count": 62,
     "metadata": {},
     "output_type": "execute_result"
    }
   ],
   "source": [
    "qc14_2 = QuantumCircuit(qr14_l,qr14_m,QuantumRegister(2,'k'))\n",
    "qc14_2.h(QuantumRegister(2,'k'))\n",
    "qc14_2.draw('mpl')"
   ]
  },
  {
   "cell_type": "code",
   "execution_count": 64,
   "metadata": {
    "collapsed": false,
    "pycharm": {
     "name": "#%%\n"
    }
   },
   "outputs": [
    {
     "data": {
      "image/png": "[encoded data removed]",
      "text/plain": [
       "<Figure size 274.266x445.48 with 1 Axes>"
      ]
     },
     "execution_count": 64,
     "metadata": {},
     "output_type": "execute_result"
    }
   ],
   "source": [
    "# Goal: add the last 3 instructions of qc14_1 onto qc14_2 while keeping the control/target registers consistent as before\n",
    "for i in range(3):\n",
    "    instruct_data = qc14_1.data[i-3] # --> tuple(instruction, qargs, cargs)\n",
    "    qc14_2.append(instruction=instruct_data[0],qargs=instruct_data[1],cargs=instruct_data[2])\n",
    "qc14_2.draw('mpl')"
   ]
  },
  {
   "cell_type": "markdown",
   "metadata": {
    "collapsed": false,
    "pycharm": {
     "name": "#%% md\n"
    }
   },
   "source": [
    "## 1.5. Expectation Observables"
   ]
  },
  {
   "cell_type": "markdown",
   "metadata": {
    "collapsed": false
   },
   "source": [
    "**Content:** How to program a specific expectation observable at the end of the circuit using StateFn\n",
    "\n",
    "**Resources:**\n",
    "* __[opflow.expectations](https://qiskit.org/documentation/stubs/qiskit.opflow.expectations.html)__\n",
    "* __[CircuitSampler](https://qiskit.org/documentation/stubs/qiskit.opflow.converters.CircuitSampler.html)__\n",
    "* __[QuantumInstance](https://qiskit.org/documentation/stubs/qiskit.utils.QuantumInstance.html)__\n",
    "* __[OperatorBase](https://qiskit.org/documentation/stubs/qiskit.opflow.OperatorBase.html)__ (base class for all operators, including StateFn)\n",
    "* __[StateFn](https://qiskit.org/documentation/stubs/qiskit.opflow.state_fns.StateFn.html)__\n",
    "* __[Evaluating expectation values of operators in Qiskit (Blog)](https://quantumcomputing.stackexchange.com/questions/12080/evaluating-expectation-values-of-operators-in-qiskit)__\n"
   ]
  },
  {
   "cell_type": "markdown",
   "metadata": {
    "collapsed": false,
    "pycharm": {
     "name": "#%% md\n"
    }
   },
   "source": [
    "**(a) Sample expectation value from circuit using CircuitSampler**"
   ]
  },
  {
   "cell_type": "code",
   "execution_count": 4,
   "metadata": {
    "collapsed": false,
    "pycharm": {
     "name": "#%%\n"
    }
   },
   "outputs": [
    {
     "data": {
      "image/png": "[encoded data removed]",
      "text/plain": [
       "<Figure size 206.997x264.88 with 1 Axes>"
      ]
     },
     "execution_count": 4,
     "metadata": {},
     "output_type": "execute_result"
    }
   ],
   "source": [
    "# Create a simple 4-qubit circuit\n",
    "qc15a_1 = QuantumCircuit(4)\n",
    "qc15a_1.h([0,2])\n",
    "qc15a_1.ry(np.pi/4,2)\n",
    "qc15a_1.draw('mpl')"
   ]
  },
  {
   "cell_type": "code",
   "execution_count": 20,
   "metadata": {
    "collapsed": false,
    "pycharm": {
     "name": "#%%\n"
    }
   },
   "outputs": [
    {
     "data": {
      "text/plain": [
       "PauliOp(Pauli('IIIZ'), coeff=1.0)"
      ]
     },
     "metadata": {},
     "output_type": "display_data"
    },
    {
     "data": {
      "text/plain": [
       "PauliOp(Pauli('IZII'), coeff=1.0)"
      ]
     },
     "metadata": {},
     "output_type": "display_data"
    }
   ],
   "source": [
    "# Construct an operator corresponding to measuring q0 in the computational basis (Z)\n",
    "meas_q0 = I^3^Z\n",
    "display(meas_q0)\n",
    "# Construct an operator corresponding to measuring q0 and q2 in the computational basis (Z)\n",
    "meas_q2 = I^Z^I^I\n",
    "display(meas_q2)"
   ]
  },
  {
   "cell_type": "markdown",
   "metadata": {
    "collapsed": false,
    "pycharm": {
     "name": "#%% md\n"
    }
   },
   "source": [
    "**NOTE:** in qiskit, operators on the right correspond to the least significant qubit index, so in our case, to measure q0, the operator must be IIIZ, NOT ZIII"
   ]
  },
  {
   "cell_type": "markdown",
   "metadata": {
    "collapsed": false,
    "pycharm": {
     "name": "#%% md\n"
    }
   },
   "source": [
    "With the operator corresponding to the measurement defined, we then need to:\n",
    "1) Convert the operator into a measurement state function using the constructor `StateFn(Op, measurement=True)` or `~StateFn(Op)`\n",
    "2) Use one of the `Expectation` constructor (see *opflow.expectations* for the different expectations and see *Evaluating expectation values of operators in Qiskit* for the differences between them) to convert the measurement into a diagonal measurement (e.g., `AerPauliExpectation().convert(~StateFn(Op))`)\n",
    "3) Compose the diagonal measurement onto the quantum circuit state function (e.g., `AerPauliExpectation().convert(~StateFn(Op)) @ StateFn(qc)`) (where `@` is the operation shorthand for the method `.compose` of `OperatorBase`)\n",
    "4) Create a `CircuitSampler` and use it to convert the Operator to one in which the CircuitStateFns are replaced by DictStateFns or VectorStateFns (meaning the CircuitStateFns is replaced by the actual numerical StateFn at the end of the circuit). Under the hood, `.convert` calls `sample_circuits` on the CircuitStateFns to do the conversion. (e.g., `sampler = circ_samp.convert(AerPauliExpectation().convert(~StateFn(Op)) @ StateFn(qc))`, this give us the sampler handle\n",
    "5) The expectation value can be calculated by calling `sampler.eval()`. If `PauliExpectation` was used in step 2, then every time `.eval()` is called the expectation value might be different since it is shot-based (other `Expectation` returns exact expectation value and is not shot-based, see the *Blog* in Resources for more info)"
   ]
  },
  {
   "cell_type": "code",
   "execution_count": 22,
   "metadata": {
    "collapsed": false,
    "pycharm": {
     "name": "#%%\n"
    }
   },
   "outputs": [
    {
     "name": "stdout",
     "output_type": "stream",
     "text": [
      "Expectation value of measuring q0 (IIIZ) is 0.000\n",
      "Expectation value of measuring q2 (IZII) is -0.707\n"
     ]
    }
   ],
   "source": [
    "# Create a CircuitSampler\n",
    "qinst_15a = QuantumInstance(Aer.get_backend('statevector_simulator'))\n",
    "circ_samp_15a = CircuitSampler(qinst_15a) # or, input the backend directly into the CircuitSampler constructor\n",
    "\n",
    "# Calculate expectation value when measuring q0 in the computational basis (Z) --> expect this to be 0\n",
    "exp_val_15a_1 = circ_samp_15a.convert(AerPauliExpectation().convert(~StateFn(meas_q0)) @ StateFn(qc15a_1)).eval()\n",
    "print('Expectation value of measuring q0 (IIIZ) is %.3f' % exp_val_15a_1)\n",
    "\n",
    "# Calculate expectation value when measuring q2 in the computational basis (Z) --> expect this to be (-1)*cos(45/2)^2 + (+1)*cos((180-45)/2)^2 (on the bloch sphere, angles to 0 and 1 basis states are twice as large)\n",
    "exp_val_15a_2 = circ_samp_15a.convert(AerPauliExpectation().convert(~StateFn(meas_q2)) @ StateFn(qc15a_1)).eval()\n",
    "print('Expectation value of measuring q2 (IZII) is %.3f' % exp_val_15a_2)"
   ]
  },
  {
   "cell_type": "markdown",
   "metadata": {
    "collapsed": false,
    "pycharm": {
     "name": "#%% md\n"
    }
   },
   "source": [
    "**b) Sample expectation value of arbitrary measurement operator (need to first convert to combinations of Pauli operators)**\n",
    "\n",
    "(still quite unclear how to do this)\n",
    "\n",
    "Another simpler method of getting expectation value is to calculate the statevector"
   ]
  },
  {
   "cell_type": "markdown",
   "metadata": {
    "collapsed": false
   },
   "source": [
    "## 1.6. Direct circuit execution"
   ]
  },
  {
   "cell_type": "markdown",
   "metadata": {
    "collapsed": false
   },
   "source": [
    "**Content:** How to execute and get results from a circuit using \"statevector_simulator\" and \"qasm_simulator\" backends with `execute()` function or `QuantumInstance`\n",
    "\n",
    "**Resources:**\n",
    "* __[opflow.expectations](https://qiskit.org/documentation/stubs/qiskit.opflow.expectations.html)__"
   ]
  },
  {
   "cell_type": "code",
   "execution_count": 50,
   "metadata": {
    "collapsed": false,
    "pycharm": {
     "name": "#%%\n"
    }
   },
   "outputs": [
    {
     "name": "stdout",
     "output_type": "stream",
     "text": [
      "Quantum circuits for execution\n"
     ]
    },
    {
     "data": {
      "image/png": "[encoded data removed]",
      "text/plain": [
       "<Figure size 267.197x204.68 with 1 Axes>"
      ]
     },
     "metadata": {},
     "output_type": "display_data"
    },
    {
     "data": {
      "image/png": "[encoded data removed]",
      "text/plain": [
       "<Figure size 327.397x264.88 with 1 Axes>"
      ]
     },
     "metadata": {},
     "output_type": "display_data"
    }
   ],
   "source": [
    "# Create quantum circuits for execution\n",
    "qc16_1 = QuantumCircuit(3)\n",
    "qc16_1.h(qc16_1.qubits)\n",
    "qc16_1.rz(np.pi/3,2)\n",
    "qc16_1.cx(0,1)\n",
    "qc16_1.cz(0,2)\n",
    "print(\"Quantum circuits for execution\")\n",
    "display(qc16_1.draw('mpl'))\n",
    "\n",
    "qc16_2 = QuantumCircuit(4)\n",
    "qc16_2.h(qc16_2.qubits)\n",
    "qc16_2.rz(np.pi/3,2)\n",
    "qc16_2.cx(0,1)\n",
    "qc16_2.cz(0,2)\n",
    "qc16_2.cy(1,3)\n",
    "display(qc16_2.draw('mpl'))\n",
    "\n",
    "qc16_list = [qc16_1,qc16_2]"
   ]
  },
  {
   "cell_type": "code",
   "execution_count": 65,
   "metadata": {
    "collapsed": false,
    "pycharm": {
     "name": "#%%\n"
    }
   },
   "outputs": [],
   "source": [
    "sim_16_state = Aer.get_backend('statevector_simulator')\n",
    "sim_16_qasm = Aer.get_backend('qasm_simulator')\n",
    "qinst_16_state = QuantumInstance(backend=sim_16_state)\n",
    "qinst_16_qasm = QuantumInstance(backend=sim_16_qasm)"
   ]
  },
  {
   "cell_type": "markdown",
   "metadata": {
    "collapsed": false
   },
   "source": [
    "**(a) Using `execute()` function**"
   ]
  },
  {
   "cell_type": "code",
   "execution_count": 58,
   "metadata": {
    "collapsed": false,
    "pycharm": {
     "name": "#%%\n"
    }
   },
   "outputs": [
    {
     "name": "stdout",
     "output_type": "stream",
     "text": [
      "Statevector([ 0.30618622-0.1767767j,  0.30618622-0.1767767j,\n",
      "              0.30618622-0.1767767j,  0.30618622-0.1767767j,\n",
      "              0.30618622+0.1767767j, -0.30618622-0.1767767j,\n",
      "              0.30618622+0.1767767j, -0.30618622-0.1767767j],\n",
      "            dims=(2, 2, 2))\n",
      "{'010': 146, '001': 151, '111': 116, '000': 121, '100': 138, '110': 133, '011': 112, '101': 107}\n"
     ]
    }
   ],
   "source": [
    "# Single circuit execution\n",
    "res_16a_state = execute(qc16_1, sim_16_state).result().get_statevector()\n",
    "print(res_16a_state)\n",
    "res_16a_qasm = execute(qc16_1.measure_all(inplace=False), sim_16_qasm).result().get_counts()\n",
    "print(res_16a_qasm)"
   ]
  },
  {
   "cell_type": "code",
   "execution_count": 64,
   "metadata": {
    "collapsed": false,
    "pycharm": {
     "name": "#%%\n"
    }
   },
   "outputs": [
    {
     "name": "stdout",
     "output_type": "stream",
     "text": [
      "Statevector([ 0.21650635-0.125j     ,  0.21650635-0.125j     ,\n",
      "             -0.125     -0.21650635j, -0.125     -0.21650635j,\n",
      "              0.21650635+0.125j     , -0.21650635-0.125j     ,\n",
      "              0.125     -0.21650635j, -0.125     +0.21650635j,\n",
      "              0.21650635-0.125j     ,  0.21650635-0.125j     ,\n",
      "              0.125     +0.21650635j,  0.125     +0.21650635j,\n",
      "              0.21650635+0.125j     , -0.21650635-0.125j     ,\n",
      "             -0.125     +0.21650635j,  0.125     -0.21650635j],\n",
      "            dims=(2, 2, 2, 2))\n",
      "{'1111': 54, '0010': 75, '0100': 61, '1101': 66, '1001': 66, '0000': 68, '0011': 67, '0101': 61, '1010': 58, '1100': 57, '1110': 71, '0001': 59, '1011': 64, '0110': 84, '0111': 62, '1000': 51}\n"
     ]
    }
   ],
   "source": [
    "# Multiple circuits execution\n",
    "res_16a_state_multi = execute(qc16_list, sim_16_state).result().get_statevector(1) # --> must indicate the index of the desired statevector if there are multiple circuits\n",
    "print(res_16a_state_multi)\n",
    "\n",
    "res_16a_qasm_multi = execute([qc.measure_all(inplace=False) for qc in qc16_list], sim_16_qasm).result().get_counts(1)\n",
    "print(res_16a_qasm_multi)"
   ]
  },
  {
   "cell_type": "markdown",
   "metadata": {
    "collapsed": false,
    "pycharm": {
     "name": "#%% md\n"
    }
   },
   "source": [
    "**(b) Using `QuantumInstance` class**\n",
    "\n",
    "`QuantumInstance` allows for more complex option settings for the backend and enable running with real hardware backend. Other than that, the only difference to using `execute()` directly is that `.result()` does not need to be called before `.get_statevector()`"
   ]
  },
  {
   "cell_type": "code",
   "execution_count": 72,
   "metadata": {
    "collapsed": false,
    "pycharm": {
     "name": "#%%\n"
    }
   },
   "outputs": [
    {
     "name": "stdout",
     "output_type": "stream",
     "text": [
      "Statevector([ 0.30618622-0.1767767j,  0.30618622-0.1767767j,\n",
      "              0.30618622-0.1767767j,  0.30618622-0.1767767j,\n",
      "              0.30618622+0.1767767j, -0.30618622-0.1767767j,\n",
      "              0.30618622+0.1767767j, -0.30618622-0.1767767j],\n",
      "            dims=(2, 2, 2))\n"
     ]
    }
   ],
   "source": [
    "res_16b_state = qinst_16_state.execute(qc16_1).get_statevector() #--> after execution returns result directly, no need to call .result() before .get_statevector()\n",
    "print(res_16b_state)\n"
   ]
  },
  {
   "cell_type": "markdown",
   "metadata": {
    "collapsed": false,
    "pycharm": {
     "name": "#%% md\n"
    }
   },
   "source": [
    "# 2. Unitary Level"
   ]
  },
  {
   "cell_type": "markdown",
   "metadata": {
    "collapsed": false,
    "pycharm": {
     "name": "#%% md\n"
    }
   },
   "source": [
    "## 2.1. Custom Controlled gate"
   ]
  },
  {
   "cell_type": "markdown",
   "metadata": {
    "collapsed": false
   },
   "source": [
    "**Content:** How to create a custom controlled gate - e.g., czz\n",
    "\n",
    "**Resources:**\n",
    "* __[Qiskit Tutorial on creating a custom gate](https://www.youtube.com/watch?v=krhPpzkT_z4)__\n",
    "\n"
   ]
  },
  {
   "cell_type": "markdown",
   "metadata": {
    "collapsed": false,
    "pycharm": {
     "name": "#%% md\n"
    }
   },
   "source": [
    "To create a custom gate from a circuit, use the method `.to_gate()` of class `QuantumCircuit`\n",
    "To create a custom gate from a circuit with a set number of controlled qubits, use the method `.control(n_control_qubits)` following `.to_gate()`"
   ]
  },
  {
   "cell_type": "code",
   "execution_count": 32,
   "metadata": {
    "collapsed": false,
    "pycharm": {
     "name": "#%%\n"
    }
   },
   "outputs": [
    {
     "name": "stdout",
     "output_type": "stream",
     "text": [
      "Circuit to be converted to gate\n"
     ]
    },
    {
     "data": {
      "image/png": "[encoded data removed]",
      "text/plain": [
       "<Figure size 267.197x204.68 with 1 Axes>"
      ]
     },
     "execution_count": 32,
     "metadata": {},
     "output_type": "execute_result"
    }
   ],
   "source": [
    "# Create a 3-qubit quantum circuit to be converted to a gate\n",
    "qc21_a = QuantumCircuit(3)\n",
    "qc21_a.h(1)\n",
    "qc21_a.x(2)\n",
    "qc21_a.cz(0,2)\n",
    "qc21_a.cx(1,0)\n",
    "print(\"Circuit to be converted to gate\")\n",
    "qc21_a.draw('mpl')"
   ]
  },
  {
   "cell_type": "code",
   "execution_count": 34,
   "metadata": {
    "collapsed": false,
    "pycharm": {
     "name": "#%%\n"
    }
   },
   "outputs": [
    {
     "name": "stdout",
     "output_type": "stream",
     "text": [
      "Custom gate applied to a new circuit\n"
     ]
    },
    {
     "data": {
      "image/png": "[encoded data removed]",
      "text/plain": [
       "<Figure size 267.197x264.88 with 1 Axes>"
      ]
     },
     "execution_count": 34,
     "metadata": {},
     "output_type": "execute_result"
    }
   ],
   "source": [
    "# Convert the circuit to a gate\n",
    "custom_gate21 = qc21_a.to_gate()\n",
    "# Append gate to a new circuit\n",
    "qc_new_21a = QuantumCircuit(4)\n",
    "qc_new_21a.t(1)\n",
    "qc_new_21a.append(custom_gate21,[0,2,3])\n",
    "print(\"Custom gate applied to a new circuit\")\n",
    "qc_new_21a.decompose().draw('mpl')"
   ]
  },
  {
   "cell_type": "code",
   "execution_count": 33,
   "metadata": {
    "collapsed": false,
    "pycharm": {
     "name": "#%%\n"
    }
   },
   "outputs": [
    {
     "name": "stdout",
     "output_type": "stream",
     "text": [
      "Controlled custom gate applied to a new circuit\n"
     ]
    },
    {
     "data": {
      "image/png": "[encoded data removed]",
      "text/plain": [
       "<Figure size 327.397x264.88 with 1 Axes>"
      ]
     },
     "metadata": {},
     "output_type": "display_data"
    },
    {
     "data": {
      "image/png": "[encoded data removed]",
      "text/plain": [
       "<Figure size 688.597x264.88 with 1 Axes>"
      ]
     },
     "metadata": {},
     "output_type": "display_data"
    }
   ],
   "source": [
    "# Convert the circuit to a controlled gate\n",
    "controlled_gate21 = qc21_a.to_gate().control(num_ctrl_qubits=1)\n",
    "# Append gate to a new circuit\n",
    "qc_new_21b = QuantumCircuit(4)\n",
    "qc_new_21b.t(0)\n",
    "qc_new_21b.append(controlled_gate21,[0,1,2,3])\n",
    "# --> in this list, the first (num_ctrl_qubits) elements are indices of the control qubits, the rest are the qubits to map the controlled gate onto. In this case, 0 is the single control qubit and the controlled gate is map onto qubit 1,2, and 3\n",
    "\n",
    "print(\"Controlled custom gate applied to a new circuit\")\n",
    "display(qc_new_21b.draw('mpl'))\n",
    "display(qc_new_21b.decompose().draw('mpl'))"
   ]
  },
  {
   "cell_type": "markdown",
   "metadata": {
    "collapsed": false,
    "pycharm": {
     "name": "#%% md\n"
    }
   },
   "source": [
    "## 2.2. Apply custom gate using a given unitary matrix"
   ]
  },
  {
   "cell_type": "markdown",
   "metadata": {
    "collapsed": false
   },
   "source": [
    "**Content:** How to create a custom unitary from a given numerical matrix (using `.unitary` of the class `QuantumCircuit`)\n",
    "\n",
    "**Resources:**\n",
    "* __[Qiskit Tutorial on converting a matrix to a unitary](https://www.youtube.com/watch?v=O2WcZS4yO1Q)__\n",
    "* __[compiler.transpile (function)](https://qiskit.org/documentation/stubs/qiskit.compiler.transpile.html)__\n",
    "* __[Circuit Library](https://qiskit.org/documentation/apidoc/circuit_library.html)__ (reference on U1, U2, U3 and other gates)\n",
    "\n"
   ]
  },
  {
   "cell_type": "code",
   "execution_count": 35,
   "metadata": {
    "collapsed": false,
    "pycharm": {
     "name": "#%%\n"
    }
   },
   "outputs": [],
   "source": [
    "# Specify a numerical unitary matrix (this can be a 2D Python list or a 2D numpy matrix)\n",
    "U = [[1,0,0,0],\n",
    "     [0,0,0,1],\n",
    "     [0,1,0,0],\n",
    "     [0,0,1,0]]"
   ]
  },
  {
   "cell_type": "code",
   "execution_count": 39,
   "metadata": {
    "collapsed": false,
    "pycharm": {
     "name": "#%%\n"
    }
   },
   "outputs": [
    {
     "name": "stdout",
     "output_type": "stream",
     "text": [
      "Custom unitary applied to a circuit\n"
     ]
    },
    {
     "data": {
      "image/png": "[encoded data removed]",
      "text/plain": [
       "<Figure size 206.997x204.68 with 1 Axes>"
      ]
     },
     "metadata": {},
     "output_type": "display_data"
    }
   ],
   "source": [
    "# Apply the custom unitary to a circuit\n",
    "qc22_a = QuantumCircuit(3)\n",
    "qc22_a.unitary(U,[1,2])\n",
    "print(\"Custom unitary applied to a circuit\")\n",
    "display(qc22_a.draw('mpl'))"
   ]
  },
  {
   "cell_type": "code",
   "execution_count": 40,
   "metadata": {
    "collapsed": false,
    "pycharm": {
     "name": "#%%\n"
    }
   },
   "outputs": [
    {
     "name": "stdout",
     "output_type": "stream",
     "text": [
      "Transpiled circuit in the basis [CX,U3]\n"
     ]
    },
    {
     "data": {
      "image/png": "[encoded data removed]",
      "text/plain": [
       "<Figure size 568.197x204.68 with 1 Axes>"
      ]
     },
     "execution_count": 40,
     "metadata": {},
     "output_type": "execute_result"
    }
   ],
   "source": [
    "# Transpile the unitary circuit using a given set of basis gate\n",
    "trans_qc22_a = transpile(qc22_a,basis_gates=['cx','u3']) # --> u3 is the arbitrary single qubit rotation gate and thus makes a universal basis\n",
    "print(\"Transpiled circuit in the basis [CX,U3]\")\n",
    "trans_qc22_a.draw('mpl')"
   ]
  },
  {
   "cell_type": "markdown",
   "metadata": {
    "collapsed": false,
    "pycharm": {
     "name": "#%% md\n"
    }
   },
   "source": [
    "## 2.3. Transpose unitary"
   ]
  },
  {
   "cell_type": "markdown",
   "metadata": {
    "collapsed": false
   },
   "source": [
    "**Content:** To inverse a quantum circuit (e.g., for use in quantum kernel in QSVM), use the method `.inverse()` from the class `QuantumCircuit`\n",
    "\n",
    "**Resources:**\n",
    "* __[Qiskit Tutorial on inverting a quantum circuit](https://www.youtube.com/watch?v=SiPF2SVb7xc)__\n",
    "\n",
    "**NOTE:** `.inverse()` does not work if there is a non-unitary operation in the circuit (e.g., any measurement)\n",
    "\n"
   ]
  },
  {
   "cell_type": "code",
   "execution_count": 43,
   "metadata": {
    "collapsed": false,
    "pycharm": {
     "name": "#%%\n"
    }
   },
   "outputs": [
    {
     "name": "stdout",
     "output_type": "stream",
     "text": [
      "Original Circuit\n"
     ]
    },
    {
     "data": {
      "image/png": "[encoded data removed]",
      "text/plain": [
       "<Figure size 327.397x204.68 with 1 Axes>"
      ]
     },
     "execution_count": 43,
     "metadata": {},
     "output_type": "execute_result"
    }
   ],
   "source": [
    "# Create a 3-qubit quantum circuit\n",
    "qc23_a = QuantumCircuit(3)\n",
    "qc23_a.h(qc23_a.qubits)\n",
    "qc23_a.rz(np.pi/3,1)\n",
    "qc23_a.cx(0,2)\n",
    "qc23_a.cz(1,2)\n",
    "print(\"Original Circuit\")\n",
    "qc23_a.draw('mpl')"
   ]
  },
  {
   "cell_type": "code",
   "execution_count": 44,
   "metadata": {
    "collapsed": false,
    "pycharm": {
     "name": "#%%\n"
    }
   },
   "outputs": [
    {
     "name": "stdout",
     "output_type": "stream",
     "text": [
      "Inverted circuit\n"
     ]
    },
    {
     "data": {
      "image/png": "[encoded data removed]",
      "text/plain": [
       "<Figure size 327.397x204.68 with 1 Axes>"
      ]
     },
     "execution_count": 44,
     "metadata": {},
     "output_type": "execute_result"
    }
   ],
   "source": [
    "# Invert the circuit using the .inverse() method\n",
    "qc23_a_inv = qc23_a.inverse()\n",
    "print(\"Inverted circuit\")\n",
    "qc23_a_inv.draw('mpl')"
   ]
  },
  {
   "cell_type": "markdown",
   "metadata": {
    "collapsed": false
   },
   "source": [
    "## 2.4. Convert a circuit to unitary matrix"
   ]
  },
  {
   "cell_type": "markdown",
   "metadata": {
    "collapsed": false
   },
   "source": [
    "**Content:** How to get the unitary matrix corresponding to a quantum circuit\n",
    "\n",
    "**Resources:**\n",
    "* __[Qiskit Tutorial on Unitary Simulator](https://www.youtube.com/watch?v=5uT5fUq2HVM)__\n",
    "\n",
    "**NOTE:** There will be small numerical error in the conversion"
   ]
  },
  {
   "cell_type": "code",
   "execution_count": 45,
   "metadata": {
    "collapsed": false,
    "pycharm": {
     "name": "#%%\n"
    }
   },
   "outputs": [
    {
     "name": "stdout",
     "output_type": "stream",
     "text": [
      "Original Circuit\n"
     ]
    },
    {
     "data": {
      "image/png": "[encoded data removed]",
      "text/plain": [
       "<Figure size 327.397x204.68 with 1 Axes>"
      ]
     },
     "execution_count": 45,
     "metadata": {},
     "output_type": "execute_result"
    }
   ],
   "source": [
    "# Create a general 3-qubit circuit\n",
    "qc24_a = QuantumCircuit(3)\n",
    "qc24_a.h(qc24_a.qubits)\n",
    "qc24_a.rz(np.pi/3,1)\n",
    "qc24_a.ry(np.pi/4,2)\n",
    "qc24_a.cx(0,2)\n",
    "qc24_a.cz(1,2)\n",
    "print(\"Original Circuit\")\n",
    "qc24_a.draw('mpl')"
   ]
  },
  {
   "cell_type": "code",
   "execution_count": 49,
   "metadata": {
    "collapsed": false,
    "pycharm": {
     "name": "#%%\n"
    }
   },
   "outputs": [
    {
     "data": {
      "text/plain": [
       "Operator([[ 0.16570679-0.09567086j,  0.16570679-0.09567086j,\n",
       "            0.16570679-0.09567086j,  0.16570679-0.09567086j,\n",
       "            0.40005157-0.23096988j,  0.40005157-0.23096988j,\n",
       "            0.40005157-0.23096988j,  0.40005157-0.23096988j],\n",
       "          [ 0.40005157-0.23096988j, -0.40005157+0.23096988j,\n",
       "            0.40005157-0.23096988j, -0.40005157+0.23096988j,\n",
       "           -0.16570679+0.09567086j,  0.16570679-0.09567086j,\n",
       "           -0.16570679+0.09567086j,  0.16570679-0.09567086j],\n",
       "          [ 0.16570679+0.09567086j,  0.16570679+0.09567086j,\n",
       "           -0.16570679-0.09567086j, -0.16570679-0.09567086j,\n",
       "            0.40005157+0.23096988j,  0.40005157+0.23096988j,\n",
       "           -0.40005157-0.23096988j, -0.40005157-0.23096988j],\n",
       "          [ 0.40005157+0.23096988j, -0.40005157-0.23096988j,\n",
       "           -0.40005157-0.23096988j,  0.40005157+0.23096988j,\n",
       "           -0.16570679-0.09567086j,  0.16570679+0.09567086j,\n",
       "            0.16570679+0.09567086j, -0.16570679-0.09567086j],\n",
       "          [ 0.40005157-0.23096988j,  0.40005157-0.23096988j,\n",
       "            0.40005157-0.23096988j,  0.40005157-0.23096988j,\n",
       "           -0.16570679+0.09567086j, -0.16570679+0.09567086j,\n",
       "           -0.16570679+0.09567086j, -0.16570679+0.09567086j],\n",
       "          [ 0.16570679-0.09567086j, -0.16570679+0.09567086j,\n",
       "            0.16570679-0.09567086j, -0.16570679+0.09567086j,\n",
       "            0.40005157-0.23096988j, -0.40005157+0.23096988j,\n",
       "            0.40005157-0.23096988j, -0.40005157+0.23096988j],\n",
       "          [-0.40005157-0.23096988j, -0.40005157-0.23096988j,\n",
       "            0.40005157+0.23096988j,  0.40005157+0.23096988j,\n",
       "            0.16570679+0.09567086j,  0.16570679+0.09567086j,\n",
       "           -0.16570679-0.09567086j, -0.16570679-0.09567086j],\n",
       "          [-0.16570679-0.09567086j,  0.16570679+0.09567086j,\n",
       "            0.16570679+0.09567086j, -0.16570679-0.09567086j,\n",
       "           -0.40005157-0.23096988j,  0.40005157+0.23096988j,\n",
       "            0.40005157+0.23096988j, -0.40005157-0.23096988j]],\n",
       "         input_dims=(2, 2, 2), output_dims=(2, 2, 2))"
      ]
     },
     "execution_count": 49,
     "metadata": {},
     "output_type": "execute_result"
    }
   ],
   "source": [
    "simulator_24 = Aer.get_backend('unitary_simulator')\n",
    "unitary_24 = execute(qc24_a,simulator_24).result().get_unitary()\n",
    "unitary_24"
   ]
  },
  {
   "cell_type": "code",
   "execution_count": null,
   "metadata": {
    "collapsed": false,
    "pycharm": {
     "name": "#%%\n"
    }
   },
   "outputs": [],
   "source": []
  }
 ],
 "metadata": {
  "kernelspec": {
   "display_name": "Python 3.10.4 ('qml')",
   "language": "python",
   "name": "python3"
  },
  "language_info": {
   "codemirror_mode": {
    "name": "ipython",
    "version": 2
   },
   "file_extension": ".py",
   "mimetype": "text/x-python",
   "name": "python",
   "nbconvert_exporter": "python",
   "pygments_lexer": "ipython2",
   "version": "3.10.4"
  },
  "vscode": {
   "interpreter": {
    "hash": "de9c43576079870b6fc28b9d70a378307f388675dcc59558bd41f502ced5198c"
   }
  }
 },
 "nbformat": 4,
 "nbformat_minor": 0
}
