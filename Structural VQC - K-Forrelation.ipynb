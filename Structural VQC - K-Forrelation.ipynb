{
 "cells": [
  {
   "cell_type": "markdown",
   "metadata": {
    "collapsed": true,
    "pycharm": {
     "name": "#%% md\n"
    }
   },
   "source": [
    "# Classification of K-Forrelation Dataset using Structural VQC"
   ]
  },
  {
   "cell_type": "markdown",
   "metadata": {
    "pycharm": {
     "name": "#%% md\n"
    }
   },
   "source": [
    "**Goals**: Attempt structural encoding as an algorithm for constructing VQC capable of deciding the k-forrelation problem in the limit of small training dataset and with `n_qubits` < `n (length of input bit string`)"
   ]
  },
  {
   "cell_type": "code",
   "execution_count": null,
   "metadata": {
    "pycharm": {
     "name": "#%%\n"
    }
   },
   "outputs": [],
   "source": [
    "#General Imports\n",
    "import math\n",
    "import matplotlib.pyplot as plt\n",
    "import numpy as np\n",
    "import pandas as pd\n",
    "from scipy.io import loadmat\n",
    "import pylab as pl\n",
    "import random\n",
    "\n",
    "#ScikitLearn Imports\n",
    "from sklearn import datasets\n",
    "from sklearn.model_selection import train_test_split\n",
    "from sklearn import svm\n",
    "from sklearn.decomposition import PCA\n",
    "\n",
    "#Qiskit imports\n",
    "from qiskit import QuantumCircuit, Aer,QuantumRegister, ClassicalRegister, execute, IBMQ\n",
    "from qiskit.circuit import ParameterVector,Parameter\n",
    "from qiskit.utils import QuantumInstance\n",
    "from qiskit.circuit.library import ZFeatureMap, ZZFeatureMap, PauliFeatureMap\n",
    "from qiskit_machine_learning.circuit.library import RawFeatureVector\n",
    "from qiskit_machine_learning.kernels import QuantumKernel\n",
    "from qiskit.extensions import UnitaryGate\n",
    "\n",
    "import os\n",
    "os.environ['QISKIT_IN_PARALLEL'] = 'TRUE'"
   ]
  },
  {
   "cell_type": "code",
   "execution_count": 2,
   "metadata": {
    "pycharm": {
     "name": "#%%\n"
    }
   },
   "outputs": [],
   "source": [
    "# Constant\n",
    "SEED = 2508\n",
    "np.random.seed(SEED)"
   ]
  },
  {
   "cell_type": "code",
   "execution_count": 3,
   "metadata": {
    "collapsed": false,
    "pycharm": {
     "name": "#%%\n"
    }
   },
   "outputs": [],
   "source": [
    "from qiskit.compiler import transpile"
   ]
  },
  {
   "cell_type": "markdown",
   "metadata": {
    "pycharm": {
     "name": "#%% md\n"
    }
   },
   "source": [
    "## 1. Load the Dataset from Matlab"
   ]
  },
  {
   "cell_type": "code",
   "execution_count": 120,
   "metadata": {
    "pycharm": {
     "name": "#%%\n"
    }
   },
   "outputs": [
    {
     "data": {
      "text/plain": [
       "dict_keys(['__header__', '__version__', '__globals__', 'NEG_dataset', 'POS_dataset', 'None', 'seed', 'test', 'train', 'validation', '__function_workspace__'])"
      ]
     },
     "execution_count": 120,
     "metadata": {},
     "output_type": "execute_result"
    }
   ],
   "source": [
    "datafile = loadmat('datasets/n3_k7_data.mat')\n",
    "datafile.keys()"
   ]
  },
  {
   "cell_type": "code",
   "execution_count": 122,
   "metadata": {
    "collapsed": false,
    "pycharm": {
     "name": "#%%\n"
    }
   },
   "outputs": [
    {
     "data": {
      "text/plain": [
       "numpy.ndarray"
      ]
     },
     "execution_count": 122,
     "metadata": {},
     "output_type": "execute_result"
    }
   ],
   "source": [
    "type(datafile['train'])"
   ]
  },
  {
   "cell_type": "code",
   "execution_count": 5,
   "metadata": {
    "pycharm": {
     "name": "#%%\n"
    }
   },
   "outputs": [],
   "source": [
    "df_train = pd.DataFrame(datafile['train'])\n",
    "df_val = pd.DataFrame(datafile['validation'])\n",
    "df_test = pd.DataFrame(datafile['test'])\n",
    "\n",
    "X_train = df_train.iloc[:,0:-1].to_numpy()\n",
    "y_train = df_train.iloc[:,-1].to_numpy()\n",
    "X_val = df_val.iloc[:,0:-1].to_numpy()\n",
    "y_val = df_val.iloc[:,-1].to_numpy()\n",
    "X_test = df_test.iloc[:,0:-1].to_numpy()\n",
    "y_test = df_test.iloc[:,-1].to_numpy()"
   ]
  },
  {
   "cell_type": "code",
   "execution_count": 6,
   "metadata": {
    "pycharm": {
     "name": "#%%\n"
    }
   },
   "outputs": [],
   "source": [
    "# Reduce the dimension of the dataset\n",
    "pca = PCA(n_components=5)\n",
    "pca.fit(X_train)\n",
    "X_train_pca = pca.transform(X_train)"
   ]
  },
  {
   "cell_type": "code",
   "execution_count": 7,
   "metadata": {
    "pycharm": {
     "name": "#%%\n"
    }
   },
   "outputs": [],
   "source": [
    "# Shrink the size of training dataset for the quantum circuit\n",
    "n_examples = 100 # for both class combined\n",
    "# Randomly samples the training set for both classes\n",
    "random.seed(SEED)\n",
    "rand_pos_ind = random.sample(range(0, 5000), int(n_examples/2))\n",
    "rand_neg_ind = random.sample(range(5000, 10000), int(n_examples/2))\n",
    "X_train_small = np.concatenate((X_train[rand_pos_ind],X_train[rand_neg_ind]))\n",
    "X_train_pca_small = np.concatenate((X_train_pca[rand_pos_ind],X_train_pca[rand_neg_ind]))\n",
    "y_train_small = np.concatenate((y_train[rand_pos_ind],y_train[rand_neg_ind]))"
   ]
  },
  {
   "cell_type": "markdown",
   "metadata": {
    "pycharm": {
     "name": "#%% md\n"
    }
   },
   "source": [
    "## 2. Define structural encoder circuit generator"
   ]
  },
  {
   "cell_type": "markdown",
   "metadata": {
    "pycharm": {
     "name": "#%% md\n"
    }
   },
   "source": [
    "**Description of encoding scheme:**\n",
    "\n",
    "* Structural encoding using the `CNOT`, `H`, and `T` universal set\n",
    "* For each K-forrelation instance of given `n`, there are approximately $3^n$ possible arrangements for sequences of `n` gates compiled from the universal set\n",
    "* (Trials: include or exclude degenerative sequences (e.g., CNOT-H-H degenerates to only CNOT))\n",
    "* Then, index the selected arrangements to specific boolean function entries (i.e. a dictionary that maps a function instance to one gate sequence)\n",
    "* To encode each function in the VQC, simply construct the gate sequence corresponding to that sequence instance (from top to bottom, left to right)"
   ]
  },
  {
   "cell_type": "markdown",
   "metadata": {
    "pycharm": {
     "name": "#%% md\n"
    }
   },
   "source": [
    "**First trial: Include degenerative sequences**"
   ]
  },
  {
   "cell_type": "code",
   "execution_count": 57,
   "metadata": {
    "pycharm": {
     "name": "#%%\n"
    }
   },
   "outputs": [],
   "source": [
    "# TODO: generalize CNOT to pair any pair of qubits (increase number of basis gates, there will be multiple entries for CNOT)\n",
    "# TODO: also return a dictionary from gate_ind --> gate (e.g., 2 --> CNOT(0,1))\n",
    "def generate_sequences(length_bitstring, n_qubits, n_layers):\n",
    "    \"\"\"\n",
    "    Args:\n",
    "        length_bitstring [int]: length of input bit strings of the binary functions\n",
    "        n_qubits [int]: number of qubits in the circuit\n",
    "        n_layers [int]: number of length_bitstring-gate layers\n",
    "            e.g., length_bitstring = 3; n_layers = 2 ==> each block has 3 * 2 = 6 basis gates\n",
    "    Returns:\n",
    "        sequence_list [list(list(int))] : list of generated sequence according to universial CNOT, H, T gates convention\n",
    "    \"\"\"\n",
    "    sequence_list = []\n",
    "\n",
    "    for i in range(length_bitstring):\n",
    "        # randomly sample a sequence made from the set {0,1,..,n_qubits}\n",
    "        sequence = np.random.choice(n_qubits+1,size=n_qubits*n_layers).tolist()\n",
    "\n",
    "        # check if the sequence is already in the list of sequence, if so, sample again\n",
    "        # TODO: this while loop can be expensive, method can be optimized\n",
    "        while sequence in sequence_list:\n",
    "            sequence = np.random.choice(n_qubits+1,size=n_qubits*n_layers).tolist()\n",
    "        sequence_list.append(sequence)\n",
    "    return sequence_list"
   ]
  },
  {
   "cell_type": "code",
   "execution_count": 75,
   "metadata": {
    "pycharm": {
     "name": "#%%\n"
    }
   },
   "outputs": [
    {
     "name": "stdout",
     "output_type": "stream",
     "text": [
      "[[0, 3, 2, 2, 0, 2], [2, 3, 3, 0, 2, 2], [2, 3, 3, 2, 1, 1]]\n"
     ]
    }
   ],
   "source": [
    "test_sequence = generate_sequences(length_bitstring=3,n_qubits=3,n_layers=2)\n",
    "test_sequence.sort()\n",
    "print(test_sequence)"
   ]
  },
  {
   "cell_type": "code",
   "execution_count": 80,
   "metadata": {
    "collapsed": false,
    "pycharm": {
     "name": "#%%\n"
    }
   },
   "outputs": [
    {
     "name": "stdout",
     "output_type": "stream",
     "text": [
      "<class 'numpy.ndarray'>\n"
     ]
    }
   ],
   "source": [
    "print(type(np.array(test_sequence).flatten()))"
   ]
  },
  {
   "cell_type": "code",
   "execution_count": 69,
   "metadata": {
    "pycharm": {
     "name": "#%%\n"
    }
   },
   "outputs": [],
   "source": [
    "# Define function to generate basis blocks for encoder circuit\n",
    "# TODO: generalize function for more than 2 qubits (for the CNOT part)\n",
    "def generate_unitaries(length_bitstring, n_qubits, n_layers, sequence_list=None):\n",
    "    \"\"\"\n",
    "    Args:\n",
    "        length_bitstring [int]: length of input bit strings of the binary functions\n",
    "        n_qubits [int]: number of qubits in the circuit\n",
    "        n_layers [int]: number of length_bitstring-gate layers\n",
    "            e.g., length_bitstring = 3; n_layers = 2 ==> each block has 3 * 2 = 6 basis gates\n",
    "\n",
    "    Returns:\n",
    "        unitaries_list [list(QuantumCircuit)]: list of `n` unitaries to encode boolean functions\n",
    "    \"\"\"\n",
    "    unitaries_list = []\n",
    "    if sequence_list is None:\n",
    "        sequence_list = generate_sequences(length_bitstring, n_qubits, n_layers)\n",
    "    qubit_index_list = np.arange(n_qubits)\n",
    "    # each sequence has length n_qubits * n_layers\n",
    "    for sequence in sequence_list:\n",
    "        qc = QuantumCircuit(n_qubits)\n",
    "        for i in range(len(sequence)):\n",
    "            gate_code = sequence[i]\n",
    "            qubit_to_apply = i % n_qubits\n",
    "\n",
    "            # below is hardcode for n = 3, n_qubits = 2, to be changed later\n",
    "            if gate_code == 0: qc.h(qubit_to_apply)\n",
    "            elif gate_code == 1: qc.t(qubit_to_apply)\n",
    "            else:\n",
    "                cx_target_list = np.delete(qubit_index_list,qubit_to_apply)\n",
    "                qc.cx(qubit_to_apply,cx_target_list[gate_code-2])\n",
    "        unitaries_list.append(qc)\n",
    "\n",
    "    return unitaries_list, sequence_list"
   ]
  },
  {
   "cell_type": "code",
   "execution_count": 72,
   "metadata": {
    "collapsed": false,
    "pycharm": {
     "name": "#%%\n"
    }
   },
   "outputs": [
    {
     "name": "stdout",
     "output_type": "stream",
     "text": [
      "[<qiskit.circuit.quantumcircuit.QuantumCircuit object at 0x000001B2025C0610>, <qiskit.circuit.quantumcircuit.QuantumCircuit object at 0x000001B2025C0B50>, <qiskit.circuit.quantumcircuit.QuantumCircuit object at 0x000001B205712880>]\n"
     ]
    },
    {
     "data": {
      "text/plain": [
       "[[0, 2, 4, 1], [0, 0, 3, 2], [0, 0, 3, 1]]"
      ]
     },
     "execution_count": 72,
     "metadata": {},
     "output_type": "execute_result"
    }
   ],
   "source": [
    "test_unitary_list, test_sequences = generate_unitaries(length_bitstring=3,n_qubits=4,n_layers=1)\n",
    "print(test_unitary_list)\n",
    "test_sequences"
   ]
  },
  {
   "cell_type": "code",
   "execution_count": 12,
   "metadata": {
    "pycharm": {
     "name": "#%%\n"
    }
   },
   "outputs": [],
   "source": [
    "# Define a function to encode a boolean function into a unitary\n",
    "def unitary_from_func(unitaries_list,func_vec):\n",
    "    \"\"\"\n",
    "    Args:\n",
    "        unitaries_list [list(QuantumCircuit)]: list of unitaries generated from randomly sampled sequences\n",
    "        func_vec [np.array]: a vector that encodes a boolean function\n",
    "    Returns:\n",
    "        func_encoder [QuantumCircuit]: Unitary that encodes the given function\n",
    "    \"\"\"\n",
    "    n_qubit = unitaries_list[0].width()\n",
    "    func_encoder = QuantumCircuit(n_qubit)\n",
    "    sig_bit_indices = np.nonzero(func_vec)[0].astype(int)\n",
    "    for sig_bit_index in sig_bit_indices:\n",
    "        func_encoder.compose(unitaries_list[sig_bit_index],qubits=range(n_qubit),inplace=True)\n",
    "\n",
    "    return func_encoder"
   ]
  },
  {
   "cell_type": "code",
   "execution_count": 13,
   "metadata": {
    "pycharm": {
     "name": "#%%\n"
    }
   },
   "outputs": [],
   "source": [
    "# Define a function to generate the encoder circuit for an instance of k-forrelation (one example)\n",
    "def generate_encoder(unitaries_list, kf_instance, n):\n",
    "    \"\"\"\n",
    "    Args:\n",
    "        unitaries_list [list(QuantumCircuit)]: list of unitaries generated from randomly sampled sequences\n",
    "        kf_instance [np.array]: a k-forrelation instance\n",
    "        n [int] : length of input bit string in the example\n",
    "    Returns:\n",
    "        encoder [QuantumCircuit]: encoder for the input instance\n",
    "    \"\"\"\n",
    "    n_qubit = unitaries_list[0].width()\n",
    "    func_vec_list = np.array_split(kf_instance,len(kf_instance)/n)\n",
    "    encoder = QuantumCircuit(n_qubit)\n",
    "    # TODO: implement different choices of separation (H, barrier, entanglement, etc.)\n",
    "    encoder.h(range(n_qubit))\n",
    "\n",
    "    for func_vec in func_vec_list:\n",
    "        encoder.compose(unitary_from_func(unitaries_list,func_vec),qubits=range(n_qubit),inplace=True)\n",
    "        encoder.h(range(n_qubit))\n",
    "        encoder.barrier()\n",
    "\n",
    "    return encoder"
   ]
  },
  {
   "cell_type": "code",
   "execution_count": 61,
   "metadata": {
    "pycharm": {
     "name": "#%%\n"
    }
   },
   "outputs": [
    {
     "data": {
      "image/png": "[encoded data removed]",
      "text/plain": [
       "<Figure size 1591.6x866.88 with 1 Axes>"
      ]
     },
     "execution_count": 61,
     "metadata": {},
     "output_type": "execute_result"
    }
   ],
   "source": [
    "test_encoder = generate_encoder(test_unitary_list,X_train_small[0],3)\n",
    "test_encoder.draw('mpl')"
   ]
  },
  {
   "cell_type": "code",
   "execution_count": 15,
   "metadata": {
    "pycharm": {
     "name": "#%%\n"
    }
   },
   "outputs": [
    {
     "data": {
      "image/png": "[encoded data removed]",
      "text/plain": [
       "<Figure size 1591.45x325.08 with 1 Axes>"
      ]
     },
     "execution_count": 15,
     "metadata": {},
     "output_type": "execute_result"
    }
   ],
   "source": [
    "# visualize transpiled (optimized) circuit\n",
    "test_encoder_trs = transpile(test_encoder,optimization_level=3)\n",
    "test_encoder_trs.decompose().draw('mpl')"
   ]
  },
  {
   "cell_type": "code",
   "execution_count": 62,
   "metadata": {
    "collapsed": false,
    "pycharm": {
     "name": "#%%\n"
    }
   },
   "outputs": [],
   "source": [
    "def prepare_all_encoders(data_mat,length_bitstring,unitaries_list):\n",
    "    \"\"\"\n",
    "    Args:\n",
    "        data_mat [np.array]: data storage matrix of size (m_examples x dim)\n",
    "        n [int] : length of input bit string in the examples\n",
    "        unitaries_list [list(QuantumCircuit)]: list of unitaries generated from randomly sampled sequences\n",
    "\n",
    "    Returns:\n",
    "        all_encoders [list(QuantumCircuit)] : list of all encoders (one for each example in the dataset)\n",
    "    \"\"\"\n",
    "    all_encoders = []\n",
    "    all_encoders.extend([generate_encoder(unitaries_list,kf_instance,length_bitstring) for kf_instance in data_mat])\n",
    "    return all_encoders"
   ]
  },
  {
   "cell_type": "code",
   "execution_count": 63,
   "metadata": {
    "collapsed": false,
    "pycharm": {
     "name": "#%%\n"
    }
   },
   "outputs": [],
   "source": [
    "all_encoders = prepare_all_encoders(X_train_small,3,test_unitary_list)"
   ]
  },
  {
   "cell_type": "code",
   "execution_count": 64,
   "metadata": {
    "collapsed": false,
    "pycharm": {
     "name": "#%%\n"
    }
   },
   "outputs": [
    {
     "name": "stdout",
     "output_type": "stream",
     "text": [
      "Circuit: 45\n"
     ]
    },
    {
     "data": {
      "image/png": "[encoded data removed]",
      "text/plain": [
       "<Figure size 1591.6x866.88 with 1 Axes>"
      ]
     },
     "execution_count": 64,
     "metadata": {},
     "output_type": "execute_result"
    }
   ],
   "source": [
    "cir_ind = np.random.randint(100)\n",
    "print('Circuit:',cir_ind)\n",
    "all_encoders[cir_ind].draw('mpl')"
   ]
  },
  {
   "cell_type": "markdown",
   "metadata": {
    "collapsed": false,
    "pycharm": {
     "name": "#%% md\n"
    }
   },
   "source": [
    "## 3. Define simple ansatz"
   ]
  },
  {
   "cell_type": "markdown",
   "metadata": {
    "collapsed": false,
    "pycharm": {
     "name": "#%% md\n"
    }
   },
   "source": [
    "Simple rotation ansatz to use with the structural encoding circuits:\n",
    "* R(y) gates for each qubits\n",
    "* Two Locals"
   ]
  },
  {
   "cell_type": "code",
   "execution_count": 19,
   "metadata": {
    "collapsed": false,
    "pycharm": {
     "name": "#%%\n"
    }
   },
   "outputs": [],
   "source": [
    "def ansatz_ry(n_qubits,_):\n",
    "    \"\"\"\n",
    "    Args:\n",
    "        n_qubits [int]: number of qubits in the circuit\n",
    "\n",
    "    Returns:\n",
    "    \"\"\"\n",
    "    params = ParameterVector('w',n_qubits)\n",
    "    ansatz = QuantumCircuit(n_qubits)\n",
    "    for i in range(n_qubits):\n",
    "        ansatz.ry(params[i],i)\n",
    "    return ansatz, params"
   ]
  },
  {
   "cell_type": "code",
   "execution_count": 20,
   "metadata": {
    "collapsed": false,
    "pycharm": {
     "name": "#%%\n"
    }
   },
   "outputs": [
    {
     "data": {
      "image/png": "[encoded data removed]",
      "text/plain": [
       "<Figure size 146.652x144.48 with 1 Axes>"
      ]
     },
     "execution_count": 20,
     "metadata": {},
     "output_type": "execute_result"
    }
   ],
   "source": [
    "ansatz_1,_ = ansatz_ry(2,_)\n",
    "ansatz_1.draw('mpl')"
   ]
  },
  {
   "cell_type": "code",
   "execution_count": 21,
   "metadata": {
    "collapsed": false,
    "pycharm": {
     "name": "#%%\n"
    }
   },
   "outputs": [],
   "source": [
    "from qiskit.circuit.library import TwoLocal\n",
    "def ansatz_two_locals(n_qubits,reps):\n",
    "    \"\"\"\n",
    "    Args:\n",
    "        n_qubits:\n",
    "        reps:\n",
    "    Returns:\n",
    "    \"\"\"\n",
    "    ansatz = TwoLocal(num_qubits=n_qubits,entanglement='linear',rotation_blocks='ry',\n",
    "                      entanglement_blocks='cx',reps=reps)\n",
    "    return ansatz, ansatz.parameters"
   ]
  },
  {
   "cell_type": "code",
   "execution_count": 22,
   "metadata": {
    "collapsed": false,
    "pycharm": {
     "name": "#%%\n"
    }
   },
   "outputs": [
    {
     "data": {
      "image/png": "[encoded data removed]",
      "text/plain": [
       "<Figure size 507.852x144.48 with 1 Axes>"
      ]
     },
     "execution_count": 22,
     "metadata": {},
     "output_type": "execute_result"
    }
   ],
   "source": [
    "ansatz_2,_ = ansatz_two_locals(2,3)\n",
    "ansatz_2.decompose().draw('mpl')"
   ]
  },
  {
   "cell_type": "code",
   "execution_count": 65,
   "metadata": {
    "collapsed": false,
    "pycharm": {
     "name": "#%%\n"
    }
   },
   "outputs": [],
   "source": [
    "def prepare_all_circuits(ansatz_generator,all_encoders,reps,params_values):\n",
    "    \"\"\"\n",
    "\n",
    "    Args:\n",
    "        ansatz_generator [function]: function to create parameterized ansatz\n",
    "        all_encoders [list(QuantumCircuit)]: list of all encoders (one for each example in the dataset)\n",
    "        reps [int]: number of repetition of the ansatz\n",
    "        params_values [array-like]: values for the parameters\n",
    "\n",
    "    Returns:\n",
    "        all_circuits [list(QuantumCircuit)]: list of all circuit for VQC (one for each example)\n",
    "    \"\"\"\n",
    "    all_circuits = []\n",
    "    n_qubits = all_encoders[0].num_qubits\n",
    "    ansatz, ansatz_params = ansatz_generator(n_qubits,reps)\n",
    "    ansatz_params_dict = {param:value for (param,value) in zip(ansatz_params,params_values)}\n",
    "    binded_ansatz = ansatz.bind_parameters(ansatz_params_dict)\n",
    "    all_circuits.extend([encoder.compose(binded_ansatz) for encoder in all_encoders])\n",
    "\n",
    "    return all_circuits"
   ]
  },
  {
   "cell_type": "code",
   "execution_count": 66,
   "metadata": {
    "collapsed": false,
    "pycharm": {
     "name": "#%%\n"
    }
   },
   "outputs": [],
   "source": [
    "all_circuits = prepare_all_circuits(ansatz_ry,all_encoders,_,[1,1])"
   ]
  },
  {
   "cell_type": "code",
   "execution_count": 67,
   "metadata": {
    "collapsed": false,
    "pycharm": {
     "name": "#%%\n"
    }
   },
   "outputs": [
    {
     "data": {
      "image/png": "[encoded data removed]",
      "text/plain": [
       "<Figure size 1591.6x866.88 with 1 Axes>"
      ]
     },
     "execution_count": 67,
     "metadata": {},
     "output_type": "execute_result"
    }
   ],
   "source": [
    "all_circuits[28].draw('mpl')"
   ]
  },
  {
   "cell_type": "markdown",
   "metadata": {
    "collapsed": false,
    "pycharm": {
     "name": "#%% md\n"
    }
   },
   "source": [
    "## 4. Decision rule and cost function"
   ]
  },
  {
   "cell_type": "markdown",
   "metadata": {
    "collapsed": false,
    "pycharm": {
     "name": "#%% md\n"
    }
   },
   "source": [
    "Potential decision rules:\n",
    "1. Probability of getting bit string 0 (or, expectation value of $|0^{\\otimes n} \\rangle \\langle 0^{\\otimes n}|$)\n",
    "2. Expectation value of $Z^{\\otimes n}$ measurement operator"
   ]
  },
  {
   "cell_type": "markdown",
   "metadata": {
    "collapsed": false,
    "pycharm": {
     "name": "#%% md\n"
    }
   },
   "source": [
    "### 4.1. Probability of getting bit string 0"
   ]
  },
  {
   "cell_type": "code",
   "execution_count": 26,
   "metadata": {
    "collapsed": false,
    "pycharm": {
     "name": "#%%\n"
    }
   },
   "outputs": [],
   "source": [
    "# Define a function to take in all execution results from backend and translate to probability of bit string 0\n",
    "def get_prob_zeros(all_results):\n",
    "    prob_zeros = []\n",
    "    for i in range(len(all_results.results)):\n",
    "        prob_zeros.append(np.absolute(all_results.get_statevector(i)[0])**2)\n",
    "    return np.array(prob_zeros)"
   ]
  },
  {
   "cell_type": "code",
   "execution_count": 105,
   "metadata": {
    "collapsed": false,
    "pycharm": {
     "name": "#%%\n"
    }
   },
   "outputs": [],
   "source": [
    "# Define a function to convert all expectation_vals to a single cross-entropy cost\n",
    "def eval_cost_cross_ent(prob_zeros, true_labels):\n",
    "    \"\"\"\n",
    "    Args:\n",
    "        prob_zeros [np.array] : Values between 0 and 1 (probability of measuring the zero bit string)\n",
    "        true_labels [np.array]: Values either 0 or 1\n",
    "\n",
    "    Return:\n",
    "        [np.array] The computed cost of the instance\n",
    "\n",
    "    \"\"\"\n",
    "    m = len(prob_zeros) # --> number of data points\n",
    "    prob_zeros = prob_zeros.reshape((m,1))\n",
    "    # TODO: account for log(0) in cost computation\n",
    "    cost = -np.dot(1-true_labels, np.log(1-prob_zeros)) - np.dot(true_labels, np.log(prob_zeros))\n",
    "    return float(cost) if not math.isnan(cost) else 10e5"
   ]
  },
  {
   "cell_type": "code",
   "execution_count": 28,
   "metadata": {
    "collapsed": false,
    "pycharm": {
     "name": "#%%\n"
    }
   },
   "outputs": [],
   "source": [
    "qinst = QuantumInstance(Aer.get_backend('statevector_simulator'))"
   ]
  },
  {
   "cell_type": "code",
   "execution_count": 29,
   "metadata": {
    "collapsed": false,
    "pycharm": {
     "name": "#%%\n"
    }
   },
   "outputs": [],
   "source": [
    "all_results = qinst.execute(all_circuits)\n",
    "prob_zeros = get_prob_zeros(all_results)"
   ]
  },
  {
   "cell_type": "code",
   "execution_count": 30,
   "metadata": {
    "collapsed": false,
    "pycharm": {
     "name": "#%%\n"
    }
   },
   "outputs": [
    {
     "name": "stdout",
     "output_type": "stream",
     "text": [
      "[0.08209107 0.00628286 0.53157111 0.03940837 0.17974872 0.00628286\n",
      " 0.31081328 0.25907291 0.15595182 0.04782864 0.23977012 0.03661165\n",
      " 0.40759521 0.85807443 0.26673397 0.00910943 0.03963225 0.25\n",
      " 0.3196646  0.11338207 0.1957817  0.15185723 0.08783469 0.11939686\n",
      " 0.07298165 0.38507558 0.15587609 0.02267564 0.38507558 0.2058981\n",
      " 0.78829247 0.82994495 0.18957743 0.10350447 0.61419933 0.02449069\n",
      " 0.10717276 0.20202313 0.33121955 0.08309822 0.17957702 0.38507558\n",
      " 0.34941342 0.7091055  0.67024001 0.5123861  0.25700368 0.38197711\n",
      " 0.6985141  0.44511747 0.11939686 0.16149082 0.12102038 0.07958639\n",
      " 0.03119223 0.17821907 0.15991631 0.24640851 0.4267767  0.27058667\n",
      " 0.11147169 0.08319395 0.23794967 0.00534397 0.43072356 0.11326795\n",
      " 0.24027543 0.19253779 0.80833046 0.17806564 0.39875246 0.15595182\n",
      " 0.26799141 0.15185726 0.1967604  0.06130855 0.05663244 0.21162999\n",
      " 0.0353812  0.22638943 0.00534682 0.36366218 0.03963225 0.49021166\n",
      " 0.06306581 0.06104565 0.0921008  0.21350918 0.16346951 0.39875246\n",
      " 0.08594417 0.25       0.1726907  0.10158052 0.52148755 0.41767838\n",
      " 0.00523037 0.31060425 0.02800856 0.28764608]\n"
     ]
    }
   ],
   "source": [
    "print(prob_zeros)"
   ]
  },
  {
   "cell_type": "code",
   "execution_count": 31,
   "metadata": {
    "collapsed": false,
    "pycharm": {
     "name": "#%%\n"
    }
   },
   "outputs": [
    {
     "name": "stdout",
     "output_type": "stream",
     "text": [
      "Cost: 102.42591891365059\n"
     ]
    }
   ],
   "source": [
    "print('Cost:', eval_cost_cross_ent(prob_zeros,y_train_small))"
   ]
  },
  {
   "cell_type": "markdown",
   "metadata": {
    "collapsed": false,
    "pycharm": {
     "name": "#%% md\n"
    }
   },
   "source": [
    "## 5. Train VQC"
   ]
  },
  {
   "cell_type": "code",
   "execution_count": 32,
   "metadata": {
    "collapsed": false,
    "pycharm": {
     "name": "#%%\n"
    }
   },
   "outputs": [],
   "source": [
    "from qiskit.algorithms.optimizers import SPSA, COBYLA, SLSQP, ADAM\n",
    "from activity_1_utils import spsa_optimizer_callback\n",
    "from activity_1_figure_utils import history_figure\n",
    "import time"
   ]
  },
  {
   "cell_type": "markdown",
   "metadata": {
    "collapsed": false,
    "pycharm": {
     "name": "#%% md\n"
    }
   },
   "source": [
    "### 5.1. VQC with probability of bit string 0 as decision factor"
   ]
  },
  {
   "cell_type": "code",
   "execution_count": 203,
   "metadata": {
    "collapsed": false,
    "pycharm": {
     "name": "#%%\n"
    }
   },
   "outputs": [],
   "source": [
    "def train_VQC(optimizer,ansatz_generator,eval_cost_func,quantum_instance,x_train,y_train,length_bitstring,n_qubits,depth,ansatz_reps,initial_point):\n",
    "    \"\"\"\n",
    "\n",
    "    Args:\n",
    "        optimizer [qiskit.algorithms.optimizers] : optimizer to use for learning the params\n",
    "        eval_cost_func [function] : a function to calculate the cost of a training instance\n",
    "        quantum_instance [QuantumInstance] : quantum instance with backend to execute the circuits\n",
    "        x_train [np.array] : training dataset, examples along rows\n",
    "        y_train [np.array] : correct label vector\n",
    "        length_bitstring [int] : length of input bit string\n",
    "        n_qubits [int]: number of qubits for VQC\n",
    "        depth [int]: number of layers for each function encoder\n",
    "        initial_point [list(int)] : initial values of the parameters\n",
    "\n",
    "    Returns:\n",
    "    \"\"\"\n",
    "    n = length_bitstring\n",
    "    unitaries_list, construction_sequences = generate_unitaries(n,n_qubits,depth)\n",
    "    all_encoders = prepare_all_encoders(x_train,n,unitaries_list)\n",
    "    n_params = len(initial_point)\n",
    "\n",
    "    def cost_func(ansatz_vals):\n",
    "        all_circuits = prepare_all_circuits(ansatz_generator,all_encoders,ansatz_reps,ansatz_vals)\n",
    "        all_results = quantum_instance.execute(all_circuits)\n",
    "        prob_zeros = get_prob_zeros(all_results)\n",
    "        return eval_cost_func(prob_zeros,y_train)\n",
    "\n",
    "    learned_params, loss, nfev = optimizer.optimize(n_params,cost_func,initial_point=initial_point)\n",
    "\n",
    "    return learned_params, loss, nfev, (unitaries_list,construction_sequences)"
   ]
  },
  {
   "cell_type": "code",
   "execution_count": null,
   "metadata": {
    "collapsed": false,
    "pycharm": {
     "name": "#%%\n"
    }
   },
   "outputs": [],
   "source": [
    "t0 = time.time()\n",
    "\n",
    "train_history1 = []\n",
    "optimizer = SPSA(maxiter = 50, callback= lambda n, p, v, ss, sa: spsa_optimizer_callback(n, p, v, ss, sa, train_history1))\n",
    "ansatz_generator = ansatz_two_locals\n",
    "eval_cost_func = eval_cost_cross_ent\n",
    "vqc_qinst = QuantumInstance(Aer.get_backend('statevector_simulator'))\n",
    "length_bitstring = 3\n",
    "n_qubits = 2\n",
    "depth = 2\n",
    "ansatz_reps = 2\n",
    "# initial_point = [0,]*n_qubits # ---> for ansatz_ry\n",
    "initial_point = [0,]*n_qubits*(ansatz_reps + 1) # ---> for ansatz_two_local\n",
    "\n",
    "learned_params, loss, nfev, encoder_instruction = train_VQC(optimizer,ansatz_generator,eval_cost_func,vqc_qinst,X_train_small,y_train_small,\n",
    "                                                  length_bitstring,n_qubits,depth, ansatz_reps,initial_point)\n",
    "\n",
    "fig = history_figure(train_history1)\n",
    "fig.show()\n",
    "print(learned_params)\n",
    "print(f'{time.time() - t0:.2f} sec')"
   ]
  },
  {
   "cell_type": "markdown",
   "metadata": {
    "collapsed": false,
    "pycharm": {
     "name": "#%% md\n"
    }
   },
   "source": [
    "### 5.2. Bayesian Optimization"
   ]
  },
  {
   "cell_type": "code",
   "execution_count": 33,
   "metadata": {
    "collapsed": false,
    "pycharm": {
     "name": "#%%\n"
    }
   },
   "outputs": [],
   "source": [
    "# from sklearn.base import clone\n",
    "from skopt import gp_minimize\n",
    "from skopt.learning import GaussianProcessRegressor\n",
    "from skopt.learning.gaussian_process.kernels import ConstantKernel, Matern"
   ]
  },
  {
   "cell_type": "code",
   "execution_count": null,
   "metadata": {
    "collapsed": false,
    "pycharm": {
     "name": "#%%\n"
    }
   },
   "outputs": [],
   "source": [
    "# Define a custom kernel to be used for GP in BO\n",
    "# implement later"
   ]
  },
  {
   "cell_type": "code",
   "execution_count": 84,
   "metadata": {
    "collapsed": false,
    "pycharm": {
     "name": "#%%\n"
    }
   },
   "outputs": [],
   "source": [
    "def callback_BO(res):\n",
    "    \"\"\"\n",
    "    Args:\n",
    "        res [OptimizeResult]: scipy object containing the current status of BO\n",
    "    \"\"\"\n",
    "    last_location = res.x_iters[-1]\n",
    "    # n_intr = res.nit\n",
    "    cost_min = res.fun\n",
    "    # print(f'----Last location: {last_location} ; Current vqc min: {cost_min}')"
   ]
  },
  {
   "cell_type": "code",
   "execution_count": 85,
   "metadata": {
    "collapsed": false,
    "pycharm": {
     "name": "#%%\n"
    }
   },
   "outputs": [],
   "source": [
    "def callback_BO_blueprint(res):\n",
    "    last_location = res.x_iters[-1]\n",
    "    cost_min = res.fun\n",
    "    print(f'Last blueprint: {last_location} ; Current blueprint min: {cost_min}')"
   ]
  },
  {
   "cell_type": "code",
   "execution_count": 73,
   "metadata": {
    "collapsed": false,
    "pycharm": {
     "name": "#%%\n"
    }
   },
   "outputs": [],
   "source": [
    "def train_VQC_BO(bounds,n_calls,n_initial_points,xi,ansatz_generator,eval_cost_func,quantum_instance,x_train,y_train,\n",
    "                 length_bitstring,n_qubits,n_layers,ansatz_reps,initial_point,all_encoders=None):\n",
    "    \"\"\"\n",
    "\n",
    "    Args:\n",
    "        bounds:\n",
    "        n_calls:\n",
    "        n_initial_points:\n",
    "        xi:\n",
    "        ansatz_generator:\n",
    "        eval_cost_func [function] : a function to calculate the cost of a training instance\n",
    "        quantum_instance [QuantumInstance] : quantum instance with backend to execute the circuits\n",
    "        x_train [np.array] : training dataset, examples along rows\n",
    "        y_train [np.array] : correct label vector\n",
    "        length_bitstring [int] : length of input bit string\n",
    "        n_qubits [int]: number of qubits for VQC\n",
    "        depth [int]: number of layers for each function encoder\n",
    "        ansatz_reps:\n",
    "        initial_point [list(int)] : initial values of the parameters\n",
    "\n",
    "    Returns:\n",
    "    \"\"\"\n",
    "\n",
    "    unitaries_list = None\n",
    "    construction_sequences = None\n",
    "    if all_encoders is None:\n",
    "        unitaries_list, construction_sequences = generate_unitaries(length_bitstring,n_qubits,n_layers)\n",
    "        all_encoders = prepare_all_encoders(x_train,length_bitstring,unitaries_list)\n",
    "\n",
    "    def cost_func(ansatz_vals):\n",
    "        all_circuits = prepare_all_circuits(ansatz_generator,all_encoders,ansatz_reps,ansatz_vals)\n",
    "        all_results = quantum_instance.execute(all_circuits)\n",
    "        prob_zeros = get_prob_zeros(all_results)\n",
    "        return eval_cost_func(prob_zeros,y_train)\n",
    "\n",
    "    # BO using default Matern kernel to optimize the parameters of the ansatz\n",
    "    bo_results = gp_minimize(cost_func,bounds,\n",
    "                             n_calls=n_calls,                   # function evaluation budget (including calculations of initial points)\n",
    "                             n_initial_points=n_initial_points, # number of initial function evaluations, before regression using GP\n",
    "                             callback=callback_BO,\n",
    "                             acq_func='EI',acq_optimizer='lbfgs',\n",
    "                             n_restarts_optimizer=5, # number of repeats (i.e. choosing different initialization) for optimization of acq_func\n",
    "                             xi=xi,x0=initial_point)\n",
    "\n",
    "    # extract final results\n",
    "    learned_params = bo_results.x\n",
    "    min_val = bo_results.fun\n",
    "\n",
    "    return learned_params, min_val, (all_encoders, unitaries_list, construction_sequences)"
   ]
  },
  {
   "cell_type": "code",
   "execution_count": 99,
   "metadata": {
    "collapsed": false,
    "pycharm": {
     "name": "#%%\n"
    }
   },
   "outputs": [],
   "source": [
    "def format_blueprint(input_list,length_bitstring):\n",
    "    return [input_list[i:i+length_bitstring] for i in range(0, len(input_list),length_bitstring)]"
   ]
  },
  {
   "cell_type": "code",
   "execution_count": 98,
   "metadata": {
    "collapsed": false,
    "pycharm": {
     "name": "#%%\n"
    }
   },
   "outputs": [
    {
     "data": {
      "text/plain": [
       "[[0, 1, 2], [3, 4, 5]]"
      ]
     },
     "execution_count": 98,
     "metadata": {},
     "output_type": "execute_result"
    }
   ],
   "source": [
    "format_blueprint([0,1,2,3,4,5],3)"
   ]
  },
  {
   "cell_type": "code",
   "execution_count": 118,
   "metadata": {
    "collapsed": false,
    "pycharm": {
     "name": "#%%\n"
    }
   },
   "outputs": [],
   "source": [
    "# Bayesian Optimization for circuit blueprint\n",
    "# each\n",
    "def train_blueprint_BO(bounds_vqc,n_calls_blueprint,n_calls_vqc,n_initial_points_vqc,xi_vqc,xi_blueprint, ansatz_generator,eval_cost_func,quantum_instance,\n",
    "                       x_train,y_train, length_bitstring,n_qubits,n_layers,ansatz_reps,initial_point_vqc):\n",
    "\n",
    "    # constants\n",
    "    bounds_blueprint = [(0,n_qubits),]*(length_bitstring * n_qubits * n_layers)\n",
    "    n_initial_points_blueprint = 3\n",
    "\n",
    "    # Function that takes in a vector of length length_bitstring * n_qubits * n_layers and return the corresponding lost\n",
    "    learned_params = None\n",
    "    min_val=10e5\n",
    "    def cost_func_structure(blue_print):\n",
    "        \"\"\"\n",
    "        Args:\n",
    "            blue_print [list(float)]: a vector that encodes construction instruction for the unitary blocks\n",
    "        Returns:\n",
    "            min_val [float]: minimum cost value for VQC based on the given blueprint\n",
    "        \"\"\"\n",
    "        global min_val\n",
    "        # Round and split blue_print to create sequence list\n",
    "        sequence = format_blueprint(blue_print,length_bitstring)\n",
    "        print(f'Optimizing blueprint: {sequence} -- min val: {min_val}')\n",
    "\n",
    "        # Create all encoders and pass into another BO for training the VQC\n",
    "        unitaries_list,_ = generate_unitaries(length_bitstring,n_qubits,n_layers,sequence_list=sequence)\n",
    "        all_encoders = prepare_all_encoders(x_train,length_bitstring,unitaries_list)\n",
    "        ansatz_params,current_min,_ = train_VQC_BO(bounds_vqc,n_calls_vqc,n_initial_points_vqc,xi_vqc,ansatz_generator,eval_cost_func,quantum_instance,\n",
    "                                     x_train,y_train,length_bitstring,n_qubits,n_layers,ansatz_reps,initial_point_vqc,all_encoders=all_encoders)\n",
    "\n",
    "        # if current min_val is the smallest so far, also record the learned params\n",
    "        if current_min < min_val:\n",
    "            learned_params = ansatz_params\n",
    "            min_val = current_min\n",
    "        return current_min\n",
    "\n",
    "    # Initialize blueprint (not necessary)\n",
    "    # BO using default Matern kernel to optimize the structure of the ansatz\n",
    "    bo_results = gp_minimize(cost_func_structure,bounds_blueprint,\n",
    "                             n_calls=n_calls_blueprint,\n",
    "                             callback=callback_BO_blueprint,\n",
    "                             n_initial_points=n_initial_points_blueprint,\n",
    "                             acq_func='EI',acq_optimizer='lbfgs',\n",
    "                             n_restarts_optimizer=3,\n",
    "                             xi=xi_blueprint)\n",
    "\n",
    "    # extract best blueprint\n",
    "    best_blueprint = format_blueprint(bo_results.x,length_bitstring)\n",
    "    print(f'min val: {min_val}')\n",
    "    return best_blueprint, learned_params, min_val"
   ]
  },
  {
   "cell_type": "code",
   "execution_count": null,
   "metadata": {
    "collapsed": false,
    "pycharm": {
     "name": "#%%\n"
    }
   },
   "outputs": [],
   "source": [
    "t0 = time.time()\n",
    "\n",
    "ansatz_generator = ansatz_two_locals\n",
    "eval_cost_func = eval_cost_cross_ent\n",
    "vqc_qinst = QuantumInstance(Aer.get_backend('statevector_simulator'))\n",
    "length_bitstring = 3\n",
    "n_qubits = 2\n",
    "depth = 2\n",
    "ansatz_reps = 2\n",
    "n_calls = 20\n",
    "n_initial_points = 2\n",
    "xi = 0.1 # exploration-exploitation trade-off (higher xi --> more exploration)\n",
    "# initial_point = [0,]*n_qubits # ---> for ansatz_ry\n",
    "initial_point = [0,]*n_qubits*(ansatz_reps + 1) # ---> for ansatz_two_local\n",
    "bounds = [(0.0,2*np.pi),]*len(initial_point)\n",
    "\n",
    "learned_params, cost_history, encoder_instructions = train_VQC_BO(bounds,n_calls,n_initial_points,xi,ansatz_generator,eval_cost_func,\n",
    "                                                                 vqc_qinst,X_train_small,y_train_small,length_bitstring,n_qubits,depth,\n",
    "                                                                 ansatz_reps,initial_point)\n",
    "\n",
    "print(learned_params)\n",
    "print(f'{time.time() - t0:.2f} sec')\n",
    "print(cost_history)"
   ]
  },
  {
   "cell_type": "code",
   "execution_count": 123,
   "metadata": {
    "collapsed": false,
    "pycharm": {
     "name": "#%%\n"
    }
   },
   "outputs": [],
   "source": [
    "t0 = time.time()\n",
    "\n",
    "n_calls_blueprint = 10\n",
    "n_calls_vqc = 10\n",
    "n_initial_points_vqc = 2\n",
    "xi_vqc = 0.1\n",
    "xi_blueprint = 0.1\n",
    "ansatz_generator = ansatz_two_locals\n",
    "eval_cost_func = eval_cost_cross_ent\n",
    "vqc_qinst = QuantumInstance(Aer.get_backend('statevector_simulator'))\n",
    "length_bitstring = 3\n",
    "n_qubits = 3\n",
    "n_layers = 1\n",
    "ansatz_reps = 2\n",
    "# initial_point_vqc = [0,]*n_qubits # ---> for ansatz_ry\n",
    "initial_point_vqc = [0,]*n_qubits*(ansatz_reps + 1) # ---> for ansatz_two_local\n",
    "bounds_vqc = [(0.0,2*np.pi),]*len(initial_point_vqc)\n",
    "\n",
    "\n",
    "best_blueprint, learned_params, min_val = train_blueprint_BO(bounds_vqc,n_calls_blueprint,n_calls_vqc,n_initial_points_vqc,xi_vqc,xi_blueprint, ansatz_generator,\n",
    "                                                             eval_cost_func,vqc_qinst, X_train_small,y_train_small,\n",
    "                                                             length_bitstring,n_qubits,n_layers,ansatz_reps,initial_point_vqc)\n",
    "\n",
    "print(best_blueprint)\n",
    "print(f'{time.time() - t0:.2f} sec')"
   ]
  },
  {
   "cell_type": "code",
   "execution_count": 115,
   "metadata": {
    "collapsed": false,
    "pycharm": {
     "name": "#%%\n"
    }
   },
   "outputs": [
    {
     "data": {
      "text/plain": [
       "1000000.0"
      ]
     },
     "execution_count": 115,
     "metadata": {},
     "output_type": "execute_result"
    }
   ],
   "source": [
    "min_val"
   ]
  },
  {
   "cell_type": "markdown",
   "metadata": {
    "collapsed": false,
    "pycharm": {
     "name": "#%% md\n"
    }
   },
   "source": [
    "## 6. Evaluate performance"
   ]
  },
  {
   "cell_type": "markdown",
   "metadata": {
    "collapsed": false,
    "pycharm": {
     "name": "#%% md\n"
    }
   },
   "source": [
    "### 6.1. Evaluation for structural encoding with probability of 0 as decision criterion"
   ]
  },
  {
   "cell_type": "code",
   "execution_count": 48,
   "metadata": {
    "collapsed": false,
    "pycharm": {
     "name": "#%%\n"
    }
   },
   "outputs": [],
   "source": [
    "# Define function that takes in a k-forrelation test set, learned params and evaluate performance on the dataset\n",
    "def eval_performance(x_test,y_test,learned_params,ansatz_reps,ansatz_generator,unitaries_list,bitstring_length,quantum_instance):\n",
    "    all_encoders = prepare_all_encoders(x_test,bitstring_length,unitaries_list)\n",
    "    all_circuits = prepare_all_circuits(ansatz_generator,all_encoders,ansatz_reps,learned_params)\n",
    "    all_results = quantum_instance.execute(all_circuits)\n",
    "    prob_zeros = get_prob_zeros(all_results)\n",
    "    predictions = (prob_zeros > 0.5).astype(int)\n",
    "    average_accuracy = sum((predictions == y_test).astype(int)) / len(y_test)\n",
    "    return average_accuracy"
   ]
  },
  {
   "cell_type": "code",
   "execution_count": 52,
   "metadata": {
    "collapsed": false,
    "pycharm": {
     "name": "#%%\n"
    }
   },
   "outputs": [
    {
     "name": "stdout",
     "output_type": "stream",
     "text": [
      "0.51\n"
     ]
    }
   ],
   "source": [
    "# ansatz_reps =\n",
    "train_fit = eval_performance(X_train_small, y_train_small, learned_params, ansatz_reps, ansatz_generator, encoder_instructions[1], 3, vqc_qinst)\n",
    "print(train_fit)"
   ]
  },
  {
   "cell_type": "code",
   "execution_count": null,
   "metadata": {
    "collapsed": false,
    "pycharm": {
     "name": "#%%\n"
    }
   },
   "outputs": [],
   "source": [
    "encoder_instructions"
   ]
  },
  {
   "cell_type": "code",
   "execution_count": null,
   "metadata": {
    "collapsed": false,
    "pycharm": {
     "name": "#%%\n"
    }
   },
   "outputs": [],
   "source": []
  }
 ],
 "metadata": {
  "kernelspec": {
   "display_name": "Python 3.10.4 ('qml')",
   "language": "python",
   "name": "python3"
  },
  "language_info": {
   "codemirror_mode": {
    "name": "ipython",
    "version": 3
   },
   "file_extension": ".py",
   "mimetype": "text/x-python",
   "name": "python",
   "nbconvert_exporter": "python",
   "pygments_lexer": "ipython3",
   "version": "3.10.4"
  },
  "toc": {
   "base_numbering": 1,
   "nav_menu": {},
   "number_sections": true,
   "sideBar": true,
   "skip_h1_title": false,
   "title_cell": "Table of Contents",
   "title_sidebar": "Contents",
   "toc_cell": false,
   "toc_position": {},
   "toc_section_display": true,
   "toc_window_display": false
  },
  "vscode": {
   "interpreter": {
    "hash": "de9c43576079870b6fc28b9d70a378307f388675dcc59558bd41f502ced5198c"
   }
  }
 },
 "nbformat": 4,
 "nbformat_minor": 1
}
